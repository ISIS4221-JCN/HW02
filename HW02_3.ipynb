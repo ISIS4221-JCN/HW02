{
 "cells": [
  {
   "cell_type": "markdown",
   "id": "breathing-shopping",
   "metadata": {},
   "source": [
    "# HW02 - Sentiment Analysis"
   ]
  },
  {
   "cell_type": "code",
   "execution_count": 67,
   "id": "wanted-composite",
   "metadata": {},
   "outputs": [],
   "source": [
    "from bs4 import BeautifulSoup\n",
    "import nltk\n",
    "from gensim.parsing.porter import PorterStemmer\n",
    "from gensim.parsing.preprocessing import remove_stopwords\n",
    "from gensim import corpora\n",
    "from gensim import models\n",
    "from gensim import similarities\n",
    "from smart_open import smart_open\n",
    "import pandas as pd"
   ]
  },
  {
   "cell_type": "code",
   "execution_count": 83,
   "id": "universal-tracy",
   "metadata": {},
   "outputs": [],
   "source": [
    "categories = ['books', 'dvd', 'electronics', 'kitchen']\n",
    "files = ['positive', 'negative', 'unlabeled']"
   ]
  },
  {
   "cell_type": "code",
   "execution_count": 84,
   "id": "strong-family",
   "metadata": {},
   "outputs": [],
   "source": [
    "def create_labeled_dataset(category):\n",
    "    dfs = []\n",
    "    for file in files:\n",
    "        with open('./data/SA/' + category + '/' + file + '.review', encoding = 'ISO-8859-1') as fp:\n",
    "            soup = BeautifulSoup(fp, \"html.parser\")\n",
    "        reviews = soup.find_all(\"review_text\")\n",
    "        text = []\n",
    "        tag = []\n",
    "        for review in reviews:\n",
    "            text.append(review.text.strip('\\n'))\n",
    "            if file in ['positive', 'negative']:\n",
    "                tag.append(file)\n",
    "                d = {'text': text, 'tag': tag}\n",
    "            else:\n",
    "                d = {'text': text}\n",
    "        dfs.append(pd.DataFrame(data = d))\n",
    "    return [pd.concat([dfs[0], dfs[1]], axis=0), dfs[2]]\n",
    "\n",
    "def process(p, tokenizer, text):\n",
    "    \"\"\" Applies standard pre-processing to given text.\n",
    "    \n",
    "    Args:\n",
    "        p (gensim.parsing.porter.PorterStemmer): stemmer object.\n",
    "        tokenizer (nltk.tokenize.regexp.RegexpTokenizer): tokenizr object.\n",
    "        text (str): text to preprocess.\n",
    "    \n",
    "    Returns:\n",
    "        list: preprocessed text.\n",
    "    \n",
    "    \"\"\"\n",
    "    # Converts to lowercase\n",
    "    doc_nor = text.lower()\n",
    "    \n",
    "    # Removes stopwords\n",
    "    doc_sw = remove_stopwords(doc_nor)\n",
    "    \n",
    "    # Stems text\n",
    "    doc_stem = p.stem_sentence(doc_sw)\n",
    "    \n",
    "    # Lemmatizes text\n",
    "    # TODO: Lemmatizer\n",
    "    \n",
    "    # Returns preprocessed text\n",
    "    return tokenizer.tokenize(doc_stem)"
   ]
  },
  {
   "cell_type": "code",
   "execution_count": 87,
   "id": "entertaining-divorce",
   "metadata": {},
   "outputs": [],
   "source": [
    "[df, df_unlabeled] = create_labeled_dataset('books')"
   ]
  },
  {
   "cell_type": "code",
   "execution_count": 91,
   "id": "funded-hepatitis",
   "metadata": {},
   "outputs": [],
   "source": [
    "\"\"\" Creates dictionary object and file from preprocessed text.\n",
    "\n",
    "Args:\n",
    "    doc_list (list): list with dictionary per naf file.\n",
    "\n",
    "Returs:\n",
    "    gensim.corpora.dictionary.Dictionary: complete dictionary.\n",
    "\n",
    "\"\"\"\n",
    "\n",
    "# Creates PorterStemmer instance.\n",
    "p = PorterStemmer()\n",
    "\n",
    "# Creates RegexpTokenizer (removes punctuation signs)\n",
    "tokenizer = nltk.RegexpTokenizer(r'\\w+')\n",
    "\n",
    "docDict = []\n",
    "for doc in df_books['text']:\n",
    "    docDict.append(process(p, tokenizer, doc))\n",
    "dictionary = corpora.Dictionary(docDict)\n",
    "dictionary.save('vocab.dict')\n",
    "\"\"\" Creates corpus efficiently based on doc_list\n",
    "\n",
    "Args:\n",
    "    doc_list (list): list with dictionary per naf file.\n",
    "    \n",
    "Returns: \n",
    "    (gensim.corpora.mmcorpus.MmCorpus): doc_corpus file\n",
    "    (gensim.corpora.mmcorpus.MmCorpus): query_corpus file\n",
    "\n",
    "\"\"\"\n",
    "\n",
    "doc_corpus = []\n",
    "for doc in doc_list:\n",
    "    doc_corpus.append(dictionary.doc2bow(process(p, tokenizer, doc)))\n",
    "\n",
    "# Serializes and saves dictionary file\n",
    "corpora.MmCorpus.serialize(\"doc_corpus.mm\",doc_corpus)"
   ]
  },
  {
   "cell_type": "code",
   "execution_count": 92,
   "id": "ranging-mirror",
   "metadata": {},
   "outputs": [
    {
     "name": "stdout",
     "output_type": "stream",
     "text": [
      "Dictionary(19794 unique tokens: ['accid', 'book', 'bridget', 'brillant', 'chick']...)\n"
     ]
    }
   ],
   "source": [
    "print(dictionary)"
   ]
  },
  {
   "cell_type": "code",
   "execution_count": null,
   "id": "absent-compromise",
   "metadata": {},
   "outputs": [],
   "source": []
  }
 ],
 "metadata": {
  "kernelspec": {
   "display_name": "Python 3",
   "language": "python",
   "name": "python3"
  },
  "language_info": {
   "codemirror_mode": {
    "name": "ipython",
    "version": 3
   },
   "file_extension": ".py",
   "mimetype": "text/x-python",
   "name": "python",
   "nbconvert_exporter": "python",
   "pygments_lexer": "ipython3",
   "version": "3.6.9"
  }
 },
 "nbformat": 4,
 "nbformat_minor": 5
}
