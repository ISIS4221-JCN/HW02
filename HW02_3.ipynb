{
 "cells": [
  {
   "cell_type": "markdown",
   "metadata": {},
   "source": [
    "# HW02 Sentiment Analysis"
   ]
  },
  {
   "cell_type": "code",
   "execution_count": 1,
   "metadata": {
    "id": "B-_Ey_ZnIdkg"
   },
   "outputs": [],
   "source": [
    "# Import necessary libraries\n",
    "import nltk, os, re\n",
    "import scipy\n",
    "import pandas as pd\n",
    "import numpy as np\n",
    "from tqdm import tqdm\n",
    "import pandas as pd\n",
    "import numpy as np\n",
    "from sklearn.model_selection import train_test_split\n",
    "from sklearn.naive_bayes import GaussianNB\n",
    "from sklearn import metrics\n",
    "from sklearn.linear_model import LogisticRegression\n",
    "from sklearn.tree import DecisionTreeClassifier\n",
    "from sklearn.ensemble import RandomForestClassifier\n",
    "from sklearn.metrics import classification_report\n",
    "import random, pickle\n",
    "from tqdm import tqdm\n",
    "import matplotlib.pyplot as plt\n",
    "from sklearn.model_selection import GridSearchCV, RandomizedSearchCV"
   ]
  },
  {
   "cell_type": "code",
   "execution_count": 2,
   "metadata": {
    "id": "cMhJWQ5JIgBU"
   },
   "outputs": [],
   "source": [
    "# Setting necessary constants\n",
    "files = ['positive', 'negative']\n",
    "categories = ['books', 'dvd', 'kitchen', 'electronics']\n",
    "characters_to_remove = '!()#@~\"'\n",
    "pattern = \"[\" + characters_to_remove + \"]\"\n",
    "classifiers = ['NB', 'LR','DT', 'RF']\n",
    "datasets = ['books', 'dvd', 'electronics', 'kitchen', 'all']\n",
    "features = ['bow', 'bool-bow', 'lexicon']\n",
    "n_estimators = np.sort(random.sample(range(1, 1000), 50))\n",
    "parameters = {\n",
    "    'n_estimators': n_estimators,\n",
    "    'max_features': ('auto', 'sqrt', 'log2'),\n",
    "}\n",
    "scores = ['precision', 'recall']"
   ]
  },
  {
   "cell_type": "markdown",
   "metadata": {},
   "source": [
    "### Loading lexicons"
   ]
  },
  {
   "cell_type": "code",
   "execution_count": 3,
   "metadata": {},
   "outputs": [],
   "source": [
    "# Reading SentiWordNet lexicon\n",
    "neg_score = {}\n",
    "pos_score = {}\n",
    "with open('./data/EN_Lexicons/SentiWordNet_3.0.0.txt') as file:\n",
    "    for i, line in enumerate(file):\n",
    "        if line[0] == '#':\n",
    "            continue\n",
    "        else:\n",
    "            try:\n",
    "                splitted = line.split('\\t')[:5]\n",
    "                pos = {splitted[-1].split('#')[0]: float(splitted[2])}\n",
    "                neg = {splitted[-1].split('#')[0]: float(splitted[3])}\n",
    "                neg_score.update(neg)\n",
    "                pos_score.update(pos)\n",
    "            except:\n",
    "                pass"
   ]
  },
  {
   "cell_type": "code",
   "execution_count": 4,
   "metadata": {},
   "outputs": [],
   "source": [
    "# Reading AFINN lexicon\n",
    "ANFII = {}\n",
    "with open('./data/EN_Lexicons/AFINN-111.txt') as file:\n",
    "    for line in file:\n",
    "        item = line.strip('\\n').split('\\t')\n",
    "        d = {item[0]: int(item[1])}\n",
    "        ANFII.update(d)"
   ]
  },
  {
   "cell_type": "code",
   "execution_count": 5,
   "metadata": {},
   "outputs": [],
   "source": [
    "# Reading WordStat lexicon \n",
    "word_stat_pos = []\n",
    "word_stat_neg = []\n",
    "neg_words = False\n",
    "pos_words = False\n",
    "with open('./data/EN_Lexicons/WordStat Sentiments.txt') as file:\n",
    "    for i, line in enumerate(file):\n",
    "        if line.strip('\\t').replace(' ', '_').replace('\\n', '') == 'NEGATIVE_WORDS':\n",
    "            neg_words = True\n",
    "        if neg_words:\n",
    "            word_stat_neg.append(line.strip('\\t').split(' ')[0].replace(' ','_').lower())\n",
    "        if line.strip('\\t').replace(' ', '_').replace('\\n', '') == 'POSITIVE_WORDS':\n",
    "            neg_words = False\n",
    "            pos_words = True\n",
    "        if pos_words:\n",
    "            word_stat_pos.append(line.strip('\\t').split(' ')[0].replace(' ','_').lower())"
   ]
  },
  {
   "cell_type": "code",
   "execution_count": 6,
   "metadata": {},
   "outputs": [],
   "source": [
    "# Reading senticnet5.py lexicon\n",
    "%run ./data/EN_Lexicons/senticnet5.py"
   ]
  },
  {
   "cell_type": "markdown",
   "metadata": {},
   "source": [
    "### Function definition"
   ]
  },
  {
   "cell_type": "code",
   "execution_count": 7,
   "metadata": {
    "id": "ZfCuTy1VH_9n"
   },
   "outputs": [],
   "source": [
    "def read_file(category, file):\n",
    "    \"\"\" Reads a review file and orders dictionary, documents and tags\n",
    "    \n",
    "    Args:\n",
    "        category (str): category to be read\n",
    "        file (str): file to be read\n",
    "    \n",
    "    Returns:\n",
    "        list: list containing the words found in the file\n",
    "        list: list containing one dictionary per review with words and associated frequency\n",
    "        list: list with the tag associated to each document\n",
    "    \"\"\"\n",
    "    \n",
    "    words = []\n",
    "    docs = []\n",
    "    tags = []\n",
    "    with open('./data/SA/'+category+'/'+file+'.review', encoding='ISO-8859-1') as file:\n",
    "        for line in file:\n",
    "            words_and_freq = re.sub(pattern, \"\", line.strip('\\n').strip('\\x1a')).split('label:')\n",
    "            if words_and_freq[-1] == 'positive':\n",
    "                tag = int(1)\n",
    "            else:\n",
    "                tag = int(0)\n",
    "            tags.append(tag)\n",
    "            words_and_freq = words_and_freq[0].split(' ')\n",
    "            d = {}\n",
    "            for term in words_and_freq[:-1]:\n",
    "                split = term.split(':')\n",
    "                words.append(split[0])\n",
    "                x = {split[0]:int(split[1])}\n",
    "                d.update(x)\n",
    "            docs.append(d)\n",
    "    return [words, docs, tags]\n",
    "\n",
    "def build_dataset(category):\n",
    "    \"\"\" Given a category returns the necessary data to build the dataset\n",
    "    \n",
    "    Args:\n",
    "        category (str): Category from which to build dataset\n",
    "        \n",
    "    Returns:\n",
    "        'numpy.ndarray': dictionay associated to the given category\n",
    "        list: one dictionary per review\n",
    "        list: tag per document\n",
    "        list: one dictionary per review in unlabeled file\n",
    "        list: tag per document in unlabeled file\n",
    "    \"\"\"\n",
    "    \n",
    "    dictionary = []\n",
    "    documents = []\n",
    "    tags = []\n",
    "    for file in files:\n",
    "        [words_temp, docs_temp, tags_temp] = read_file(category, file)\n",
    "        words_temp = np.unique(words_temp)\n",
    "        for term in zip(docs_temp, tags_temp):\n",
    "            documents.append(term[0])\n",
    "            tags.append(term[1])\n",
    "        for word in words_temp:\n",
    "            dictionary.append(word)\n",
    "    temp, unlabeled_docs, unlabeled_tags = read_file(category, 'unlabeled')\n",
    "    return [np.array(np.unique(dictionary),dtype='str'), documents, tags, unlabeled_docs, unlabeled_tags]\n",
    "  \n",
    "def purge_dataset(dictionary, documents):\n",
    "    \"\"\" Removes the words with unitary frequency\n",
    "    \n",
    "    Args:\n",
    "        dictionary ('numpy.ndarray'): dictionary to be purged\n",
    "        documents (list): base list to define word frequency\n",
    "        \n",
    "    Returns:\n",
    "        'numpy.ndarray': purged dictionary\n",
    "    \"\"\"\n",
    "    \n",
    "    freq = np.zeros(len(dictionary))\n",
    "    for i, word in enumerate(dictionary):\n",
    "        for doc in documents:\n",
    "            try:\n",
    "                freq[i] = freq[i] + doc[word]\n",
    "            except:\n",
    "                pass\n",
    "    to_remove = []\n",
    "    for i, occurence in enumerate(zip(dictionary, freq)):\n",
    "        if occurence[1] == 1:\n",
    "            to_remove.append(i)\n",
    "    dictionary = np.delete(dictionary, to_remove)\n",
    "    return dictionary\n",
    "\n",
    "def build_matrix(dictionary, documents, tags, unlabeled_docs, unlabeled_tags, file, boolean):\n",
    "    \"\"\" Given dictionary and document arrays builds the according BOW\n",
    "    \n",
    "    Args:\n",
    "        dictionary ('numpy.ndarray'): associated dictionary\n",
    "        documents (list): dictionary per review\n",
    "        tags (list): tag per review\n",
    "        unlabeled_docs (list): dictioray per ulabeled review\n",
    "        unlabeled_tags (list): tag per unlabeded review\n",
    "        file (str): name of the file (labeled or not)\n",
    "        boolean (str): type of BOW expected\n",
    "        \n",
    "    Returns:\n",
    "        'numpy.matrix': matrix with BOW and tag per document\n",
    "    \"\"\"\n",
    "    \n",
    "    if file == 'labeled':\n",
    "        m = np.zeros((len(dictionary) + 1, len(documents)), dtype = np.bool_ if boolean == 'bool' else np.int8)\n",
    "        for i, document in enumerate(documents):\n",
    "            for key in document.keys():\n",
    "                index = np.where(dictionary == key)[0]\n",
    "                if len(index) != 0:\n",
    "                    m[index[0],i] = True if boolean == 'bool' else document[key]\n",
    "            m[-1, i] = tags[i]\n",
    "    else:\n",
    "        m = np.zeros((len(dictionary) + 1, len(unlabeled_docs)), dtype = np.bool_ if boolean == 'bool' else np.int8)\n",
    "        for i, document in enumerate(unlabeled_docs):\n",
    "            for key in document.keys():\n",
    "                index = np.where(dictionary == key)[0]\n",
    "                if len(index) != 0:\n",
    "                    m[index[0],i] = True if boolean == 'bool' else document[key]\n",
    "            m[-1, i] = unlabeled_tags[i]\n",
    "    return m\n",
    "\n",
    "def set_values(pos_count, neg_count, polarity_last, pos_sum, neg_sum, ANFII_pos_count, ANFII_neg_count, \n",
    "                      ANFII_pos_score, ANFII_neg_score, stat_pos, stat_neg, polarity_senticnet, file):\n",
    "    \"\"\" Returns and array of values with the lexicon extracted features\n",
    "    \n",
    "    Args:\n",
    "        pos_count (int): count of positive words according to SentiWordNet\n",
    "        neg_count (int): count of negative words according to SentiWordNet\n",
    "        polarity_last (float): polarity of the last word according to SentiWordNet\n",
    "        pos_sum (float): sum of the polarity of the positive words according to SentiWordNet\n",
    "        neg_sum (float): sum of the polatiry of the negative words according to SentiWordNet\n",
    "        ANFII_pos_count (int): count of positive words according to ANFII\n",
    "        ANFII_neg_count (int): count of negative words according to ANFII\n",
    "        ANFII_pos_score (int): sum of positive words according to ANFII\n",
    "        ANFII_neg_score (int): sum of negative words according to ANFII\n",
    "        stat_pos (int): count of positive words according to statWord\n",
    "        stat_neg (int): count of negative words according to statWord\n",
    "        polarity_senticnet (float): Polarity of the words according to senticnet\n",
    "        file (str): Name of the file to set the tag\n",
    "        \n",
    "    Returns:\n",
    "        'nump.ndarray': Array with all parameters organized\n",
    "    \"\"\"\n",
    "    \n",
    "    if neg_count == 0:\n",
    "        div = 0\n",
    "    else:\n",
    "        div = pos_count/neg_count\n",
    "    if file == 'positive':\n",
    "        tag = 1\n",
    "    else:\n",
    "        tag = 0\n",
    "    return np.array([pos_count, neg_count, polarity_last, pos_sum, neg_sum, ANFII_pos_count, ANFII_neg_count, \n",
    "                      ANFII_pos_score, ANFII_neg_score, stat_pos, stat_neg, polarity_senticnet, tag])\n",
    "\n",
    "def create_lexicon_vector(doc, file):\n",
    "    \"\"\" Extracts lexicon based features from doc\n",
    "    \n",
    "    Args:\n",
    "        doc (dict): Dictionary with document from with to extract lexicon features\n",
    "        file (str): file from wich the document came from\n",
    "    \n",
    "    Retuns:\n",
    "        'numpy.ndarray': values to be appended in lexicon matrix\n",
    "    \"\"\"\n",
    "    \n",
    "    neg_count = pos_count = neg_sum = pos_sum = 0\n",
    "    ANFII_pos_count = ANFII_neg_count = ANFII_pos_score = ANFII_neg_score = 0\n",
    "    stat_pos = stat_neg = polarity_senticnet = 0\n",
    "    last_word = True; word_in_lex = False\n",
    "    words = list(doc.keys())\n",
    "    polarity_last = 0\n",
    "    for word in reversed(words):\n",
    "        list_words = word.split('_')\n",
    "        for list_word in list_words:\n",
    "            if list_word in neg_score.keys():\n",
    "                if neg_score[list_word] > 0:\n",
    "                    neg_count += 1\n",
    "                    neg_sum += neg_score[list_word]\n",
    "                    word_in_lex = True\n",
    "                if pos_score[list_word] > 0:\n",
    "                    pos_count += 1\n",
    "                    pos_sum += pos_score[list_word]\n",
    "                    word_in_lex = True\n",
    "                if word_in_lex and last_word:\n",
    "                    polarity_last = (neg_score[list_word]*-1) + (pos_score[list_word])\n",
    "                    last_word = False\n",
    "            if list_word in ANFII.keys():\n",
    "                if ANFII[list_word] > 0:\n",
    "                    ANFII_pos_count += 1\n",
    "                    ANFII_pos_score += ANFII[list_word]\n",
    "                else:\n",
    "                    ANFII_neg_count += 1\n",
    "                    ANFII_neg_score += ANFII[list_word]\n",
    "            if list_word in word_stat_pos:\n",
    "                stat_pos += 1\n",
    "            elif list_word in word_stat_neg:\n",
    "                stat_neg += 1\n",
    "            if list_word in list(senticnet.keys()):\n",
    "                polarity_senticnet += float(senticnet[list_word][7])\n",
    "    return set_values(pos_count, neg_count, polarity_last, pos_sum, neg_sum, ANFII_pos_count, ANFII_neg_count, \n",
    "                      ANFII_pos_score, ANFII_neg_score, stat_pos, stat_neg, polarity_senticnet, file)"
   ]
  },
  {
   "cell_type": "markdown",
   "metadata": {},
   "source": [
    "### Build bool and not-bool BOW"
   ]
  },
  {
   "cell_type": "code",
   "execution_count": 8,
   "metadata": {
    "colab": {
     "base_uri": "https://localhost:8080/"
    },
    "id": "zWl2sJGFhV1s",
    "outputId": "87ad74cd-2970-4642-b45d-04786118ed8e"
   },
   "outputs": [
    {
     "name": "stderr",
     "output_type": "stream",
     "text": [
      "100%|██████████| 4/4 [53:36<00:00, 804.16s/it]   \n"
     ]
    }
   ],
   "source": [
    "# Creates bool BOW and non-bool BOW matrices for each category\n",
    "for cat in tqdm(categories):\n",
    "    [dictionary, documents, tags, unlabeled_docs, unlabeled_tags] = build_dataset(cat)\n",
    "    dictionary = purge_dataset(dictionary, documents)\n",
    "    np.save('./data/SA/'+cat+'/dictionary.npy', dictionary)\n",
    "    ans = build_matrix(dictionary, documents, tags, unlabeled_docs, unlabeled_tags, 'labeled', 'bool')\n",
    "    np.save('./data/SA/'+cat+'/bool-labeled.npy',ans)\n",
    "    ans = build_matrix(dictionary, documents, tags, unlabeled_docs, unlabeled_tags, 'unlabeled', 'not-bool')\n",
    "    np.save('./data/SA/'+cat+'/unlabeled.npy',ans)\n",
    "    ans = build_matrix(dictionary, documents, tags, unlabeled_docs, unlabeled_tags, 'labeled', 'not-bool')\n",
    "    np.save('./data/SA/'+cat+'/labeled.npy',ans)\n",
    "    ans = build_matrix(dictionary, documents, tags, unlabeled_docs, unlabeled_tags, 'unlabeled', 'bool')\n",
    "    np.save('./data/SA/'+cat+'/bool-unlabeled.npy',ans)"
   ]
  },
  {
   "cell_type": "code",
   "execution_count": 9,
   "metadata": {
    "colab": {
     "base_uri": "https://localhost:8080/"
    },
    "id": "zX6jWMTPomF6",
    "outputId": "fb3f1a2a-313a-4d50-fb65-0cbb87661383"
   },
   "outputs": [
    {
     "name": "stdout",
     "output_type": "stream",
     "text": [
      "(100801,)\n"
     ]
    }
   ],
   "source": [
    "# Creates dictionary for all categories together\n",
    "dictionary = np.concatenate((np.load('./data/SA/books/dictionary.npy'),\n",
    "                            np.load('./data/SA/dvd/dictionary.npy'),\n",
    "                            np.load('./data/SA/electronics/dictionary.npy'),\n",
    "                            np.load('./data/SA/kitchen/dictionary.npy')), axis = 0)\n",
    "dictionary = np.array(np.unique(dictionary),dtype='str')\n",
    "print(dictionary.shape)"
   ]
  },
  {
   "cell_type": "code",
   "execution_count": 10,
   "metadata": {
    "colab": {
     "base_uri": "https://localhost:8080/",
     "height": 350
    },
    "id": "0eYYrMIS-eKW",
    "outputId": "87c241c4-4f9e-4f7a-fae0-c453e0a90b1d"
   },
   "outputs": [],
   "source": [
    "# Creates dictionary matrices for books category based on whole dictionary\n",
    "[dictionary1, documents, tags, unlabeled_docs, unlabeled_tags] = build_dataset('books')\n",
    "np.save('./data/SA/all/bool-labeled.npy', build_matrix(dictionary, documents, tags, unlabeled_docs, unlabeled_tags, 'labeled', 'bool'))\n",
    "np.save('./data/SA/all/bool-unlabeled.npy', build_matrix(dictionary, documents, tags, unlabeled_docs, unlabeled_tags, 'unlabeled', 'bool'))\n",
    "np.save('./data/SA/all/labeled.npy', build_matrix(dictionary, documents, tags, unlabeled_docs, unlabeled_tags, 'labeled', 'not-bool'))\n",
    "np.save('./data/SA/all/unlabeled.npy', build_matrix(dictionary, documents, tags, unlabeled_docs, unlabeled_tags, 'unlabeled', 'not-bool'))"
   ]
  },
  {
   "cell_type": "code",
   "execution_count": 11,
   "metadata": {
    "id": "Ev0gH3baDEOw"
   },
   "outputs": [],
   "source": [
    "# Creates dictionary matrices for dvd category based on whole dictionary\n",
    "[dictionary1, documents, tags, unlabeled_docs, unlabeled_tags] = build_dataset('dvd')\n",
    "m = np.load('./data/SA/all/bool-labeled.npy')\n",
    "np.save('./data/SA/all/bool-labeled.npy', \n",
    "        np.concatenate((m, build_matrix(dictionary, documents, tags, unlabeled_docs, unlabeled_tags, 'labeled', 'bool')), axis = 1))\n",
    "m = np.load('./data/SA/all/bool-unlabeled.npy')\n",
    "np.save('./data/SA/all/bool-unlabeled.npy',\n",
    "        np.concatenate((m, build_matrix(dictionary, documents, tags, unlabeled_docs, unlabeled_tags, 'unlabeled', 'bool')), axis = 1))\n",
    "m = np.load('./data/SA/all/labeled.npy')\n",
    "np.save('./data/SA/all/labeled.npy',\n",
    "        np.concatenate((m, build_matrix(dictionary, documents, tags, unlabeled_docs, unlabeled_tags, 'labeled', 'not-bool')), axis = 1))\n",
    "m = np.load('./data/SA/all/unlabeled.npy')\n",
    "np.save('./data/SA/all/unlabeled.npy', \n",
    "        np.concatenate((m, build_matrix(dictionary, documents, tags, unlabeled_docs, unlabeled_tags, 'unlabeled', 'not-bool')), axis = 1))"
   ]
  },
  {
   "cell_type": "code",
   "execution_count": 12,
   "metadata": {
    "id": "OYMv45NWEPDz"
   },
   "outputs": [],
   "source": [
    "# Creates dictionary matrices for electronics category based on whole dictionary\n",
    "[dictionary1, documents, tags, unlabeled_docs, unlabeled_tags] = build_dataset('electronics')\n",
    "m = np.load('./data/SA/all/bool-labeled.npy')\n",
    "np.save('./data/SA/all/bool-labeled.npy', \n",
    "        np.concatenate((m, build_matrix(dictionary, documents, tags, unlabeled_docs, unlabeled_tags, 'labeled', 'bool')), axis = 1))\n",
    "m = np.load('./data/SA/all/bool-unlabeled.npy')\n",
    "np.save('./data/SA/all/bool-unlabeled.npy',\n",
    "        np.concatenate((m, build_matrix(dictionary, documents, tags, unlabeled_docs, unlabeled_tags, 'unlabeled', 'bool')), axis = 1))\n",
    "m = np.load('./data/SA/all/labeled.npy')\n",
    "np.save('./data/SA/all/labeled.npy',\n",
    "        np.concatenate((m, build_matrix(dictionary, documents, tags, unlabeled_docs, unlabeled_tags, 'labeled', 'not-bool')), axis = 1))\n",
    "m = np.load('./data/SA/all/unlabeled.npy')\n",
    "np.save('./data/SA/all/unlabeled.npy', \n",
    "        np.concatenate((m, build_matrix(dictionary, documents, tags, unlabeled_docs, unlabeled_tags, 'unlabeled', 'not-bool')), axis = 1))"
   ]
  },
  {
   "cell_type": "code",
   "execution_count": 13,
   "metadata": {
    "id": "KreTuVuXEQkj"
   },
   "outputs": [],
   "source": [
    "# Creates dictionary matrices for kitchen category based on whole dictionary\n",
    "[dictionary1, documents, tags, unlabeled_docs, unlabeled_tags] = build_dataset('kitchen')\n",
    "m = np.load('./data/SA/all/bool-labeled.npy')\n",
    "np.save('./data/SA/all/bool-labeled.npy', \n",
    "       np.concatenate((m, build_matrix(dictionary, documents, tags, unlabeled_docs, unlabeled_tags, 'labeled', 'bool')), axis = 1))\n",
    "m = np.load('./data/SA/all/bool-unlabeled.npy')\n",
    "np.save('./data/SA/all/bool-unlabeled.npy',\n",
    "        np.concatenate((m, build_matrix(dictionary, documents, tags, unlabeled_docs, unlabeled_tags, 'unlabeled', 'bool')), axis = 1))\n",
    "m = np.load('./data/SA/all/labeled.npy')\n",
    "np.save('./data/SA/all/labeled.npy',\n",
    "        np.concatenate((m, build_matrix(dictionary, documents, tags, unlabeled_docs, unlabeled_tags, 'labeled', 'not-bool')), axis = 1))\n",
    "m = np.load('./data/SA/all/unlabeled.npy')\n",
    "np.save('./data/SA/all/unlabeled.npy', \n",
    "        np.concatenate((m, build_matrix(dictionary, documents, tags, unlabeled_docs, unlabeled_tags, 'unlabeled', 'not-bool')), axis = 1))"
   ]
  },
  {
   "cell_type": "code",
   "execution_count": 14,
   "metadata": {
    "id": "ojL6RdHbFRWa"
   },
   "outputs": [],
   "source": [
    "# Saves complete dictionary\n",
    "np.save('./data/SA/all/dictionary.npy', dictionary)"
   ]
  },
  {
   "cell_type": "markdown",
   "metadata": {},
   "source": [
    "### Creates lexicon matrices"
   ]
  },
  {
   "cell_type": "code",
   "execution_count": 15,
   "metadata": {},
   "outputs": [
    {
     "name": "stderr",
     "output_type": "stream",
     "text": [
      "100%|██████████| 4/4 [11:00:06<00:00, 9901.72s/it] \n"
     ]
    }
   ],
   "source": [
    "# Creates matrices with lexicon extracted features\n",
    "for cat in tqdm(['books', 'dvd', 'electronics', 'kitchen']):\n",
    "    m = np.zeros((1,13))\n",
    "    for file in ['positive', 'negative']:\n",
    "        words, docs, tags = read_file('books', file)\n",
    "        for doc in docs:\n",
    "            n = np.reshape(create_lexicon_vector(doc, file), (1,13))\n",
    "            m = np.append(m, n, axis=0)\n",
    "    m[~np.all(m == 0, axis=1)]\n",
    "    np.save('./data/SA/'+cat+'/lexicon-labeled.npy', np.transpose(m[1:,:]))\n",
    "    words, docs, tags = read_file('books', 'unlabeled')\n",
    "    m = np.zeros((1,13))\n",
    "    for doc in docs:\n",
    "        n = np.reshape(create_lexicon_vector(doc, file), (1,13))\n",
    "        m = np.append(m, n, axis=0)\n",
    "    m[~np.all(m == 0, axis=1)]\n",
    "    np.save('./data/SA/'+cat+'/lexicon-unlabeled.npy', np.transpose(m[1:,:]))"
   ]
  },
  {
   "cell_type": "code",
   "execution_count": 16,
   "metadata": {},
   "outputs": [],
   "source": [
    "# Creates matrices of lexicon extracted features for all categories together\n",
    "np.save('./data/SA/all/lexicon-labeled.npy', np.concatenate((np.load('./data/SA/books/lexicon-labeled.npy'),\n",
    "                                                             np.load('./data/SA/dvd/lexicon-labeled.npy'),\n",
    "                                                             np.load('./data/SA/electronics/lexicon-labeled.npy'),\n",
    "                                                             np.load('./data/SA/kitchen/lexicon-labeled.npy')), \n",
    "                                                             axis=1))\n",
    "\n",
    "np.save('./data/SA/all/lexicon-unlabeled.npy', np.concatenate((np.load('./data/SA/books/lexicon-unlabeled.npy'),\n",
    "                                                             np.load('./data/SA/dvd/lexicon-unlabeled.npy'),\n",
    "                                                             np.load('./data/SA/electronics/lexicon-unlabeled.npy'),\n",
    "                                                             np.load('./data/SA/kitchen/lexicon-unlabeled.npy')), \n",
    "                                                             axis=1))"
   ]
  },
  {
   "cell_type": "markdown",
   "metadata": {},
   "source": [
    "### Classifiers training"
   ]
  },
  {
   "cell_type": "code",
   "execution_count": 3,
   "metadata": {},
   "outputs": [],
   "source": [
    "LR_coeffs = []\n",
    "parameters = {\n",
    "    'n_estimators': scipy.stats.uniform(loc=1, scale = 999),\n",
    "    'max_features': ('auto', 'sqrt', 'log2'),\n",
    "    'criterion': ('gini', 'entropy'),\n",
    "    'max_depth': scipy.stats.uniform(loc=1, scale = 999),\n",
    "    'min_leaf_nodes': scipy.stats.uniform(loc=1, scale=999)\n",
    "}\n",
    "scores = ['precision', 'recall']\n",
    "from sklearn.model_selection import RandomizedSearchCV"
   ]
  },
  {
   "cell_type": "code",
   "execution_count": 4,
   "metadata": {},
   "outputs": [],
   "source": [
    "def train_validate_evaluate(classifier, dataset, feature):\n",
    "    \"\"\" Trains and evaluates specified classifier\n",
    "    \n",
    "    Args:\n",
    "        classifier (str): initials of classifier\n",
    "        dataset (str): category to be trained on\n",
    "        feature (str): file to use as training data\n",
    "        \n",
    "    Returns:\n",
    "        'pandas.dataframe': Dataframe containing metrics for each classifier    \n",
    "    \"\"\"\n",
    "    \n",
    "    if feature == 'bow':\n",
    "        item = ''\n",
    "    elif feature == 'bool-bow':\n",
    "        item = 'bool-'\n",
    "    else:\n",
    "        item = 'lexicon-'\n",
    "    path = './data/SA/' + dataset + '/' + item + 'labeled.npy'\n",
    "    data = np.transpose(np.load(path))\n",
    "    X = data[:,:-1]\n",
    "    y = data[:,-1]\n",
    "    X_train, X_val, y_train, y_val = train_test_split(X, y, test_size=0.2, random_state=15)\n",
    "    if classifier == 'NB':\n",
    "        clf = GaussianNB()\n",
    "    elif classifier == 'LR':\n",
    "        clf = LogisticRegression(random_state=0, max_iter=500)\n",
    "    elif classifier == 'DT':\n",
    "        clf = DecisionTreeClassifier(random_state=0)\n",
    "    elif classifier == 'RF':\n",
    "        clf = RandomForestClassifier()\n",
    "    clf.fit(X_train, y_train)\n",
    "    if classifier == 'LR':\n",
    "        LR_coeffs.append(clf.coef_)\n",
    "    y_pred = clf.predict(X_val)\n",
    "    accuracy = metrics.accuracy_score(y_val, y_pred)\n",
    "    precision = metrics.precision_score(y_val, y_pred)\n",
    "    recall = metrics.recall_score(y_val, y_pred)\n",
    "    f1_score = metrics.f1_score(y_val, y_pred)\n",
    "    metrics_data = {'dataset': [dataset], 'classifier': [classifier], 'model':[feature],\n",
    "        'accuracy': [accuracy], 'precision':[precision], 'recall':[recall], 'f1_score': [f1_score]}\n",
    "    df = pd.DataFrame(data = metrics_data)\n",
    "    df.index = [dataset + ' ' + classifier + ' ' + feature]\n",
    "    return df\n",
    "\n",
    "def test_rf_hyperparameters(dataset, feature):\n",
    "    \"\"\" Testing hyperpaarameters for Random Forest classifier\n",
    "    Args:\n",
    "        dataset (str): dataset of category to use\n",
    "        feature (str): feature to use\n",
    "    \n",
    "    Returns:\n",
    "        list: best classifier for precision and recall\n",
    "    \"\"\"\n",
    "    \n",
    "    if feature == 'bow':\n",
    "        item = ''\n",
    "    elif feature == 'bool-bow':\n",
    "        item = 'bool-'\n",
    "    else:\n",
    "        item = 'lexicon-'\n",
    "    path = './data/SA/' + dataset + '/' + item + 'labeled.npy'\n",
    "    data = np.transpose(np.load(path))\n",
    "    X = data[:,:-1]\n",
    "    y = data[:,-1]\n",
    "    df = pd.DataFrame()\n",
    "    X_train, X_val, y_train, y_val = train_test_split(X, y, test_size=0.2, random_state=15)\n",
    "    clfs = []\n",
    "    for score in scores:\n",
    "        print(\"# Tuning hyper-parameters for %s\" % score)\n",
    "        print()\n",
    "        clf = RandomizedSearchCV(RandomForestClassifier(random_state=0), parameters, scoring='%s_macro' % score, n_jobs=1)\n",
    "        clf.fit(X_train, y_train)\n",
    "        print(\"Best parameters set found on development set:\")\n",
    "        print()\n",
    "        print(clf.best_params_)\n",
    "        print()\n",
    "        print(\"Grid scores on development set:\")\n",
    "        print()\n",
    "        means = clf.cv_results_['mean_test_score']\n",
    "        stds = clf.cv_results_['std_test_score']\n",
    "        for mean, std, params in zip(means, stds, clf.cv_results_['params']):\n",
    "            print(\"%0.3f (+/-%0.03f) for %r\"\n",
    "                  % (mean, std * 2, params))\n",
    "        print()\n",
    "\n",
    "        print(\"Detailed classification report:\")\n",
    "        print()\n",
    "        print(\"The model is trained on the full development set.\")\n",
    "        print(\"The scores are computed on the full evaluation set.\")\n",
    "        print()\n",
    "        y_true, y_pred = y_val, clf.predict(X_val)\n",
    "        print(classification_report(y_true, y_pred))\n",
    "        print()\n",
    "        clfs.append(clf)\n",
    "    return clfs"
   ]
  },
  {
   "cell_type": "code",
   "execution_count": 5,
   "metadata": {},
   "outputs": [],
   "source": [
    "# Excecutes train_validate_evaluate for each feature, dataset and classifier\n",
    "df = pd.DataFrame()\n",
    "for classifier in classifiers:\n",
    "    for dataset in datasets:\n",
    "        for feature in features:\n",
    "            df = pd.concat([df, train_validate_evaluate(classifier, dataset, feature)], axis=0)"
   ]
  },
  {
   "cell_type": "code",
   "execution_count": 43,
   "metadata": {},
   "outputs": [
    {
     "data": {
      "text/html": [
       "<div>\n",
       "<style scoped>\n",
       "    .dataframe tbody tr th:only-of-type {\n",
       "        vertical-align: middle;\n",
       "    }\n",
       "\n",
       "    .dataframe tbody tr th {\n",
       "        vertical-align: top;\n",
       "    }\n",
       "\n",
       "    .dataframe thead th {\n",
       "        text-align: right;\n",
       "    }\n",
       "</style>\n",
       "<table border=\"1\" class=\"dataframe\">\n",
       "  <thead>\n",
       "    <tr style=\"text-align: right;\">\n",
       "      <th></th>\n",
       "      <th>dataset</th>\n",
       "      <th>classifier</th>\n",
       "      <th>model</th>\n",
       "      <th>accuracy</th>\n",
       "      <th>precision</th>\n",
       "      <th>recall</th>\n",
       "      <th>f1_score</th>\n",
       "    </tr>\n",
       "  </thead>\n",
       "  <tbody>\n",
       "    <tr>\n",
       "      <th>all NB bow</th>\n",
       "      <td>all</td>\n",
       "      <td>NB</td>\n",
       "      <td>bow</td>\n",
       "      <td>0.726875</td>\n",
       "      <td>0.698661</td>\n",
       "      <td>0.789407</td>\n",
       "      <td>0.741267</td>\n",
       "    </tr>\n",
       "    <tr>\n",
       "      <th>all NB bool-bow</th>\n",
       "      <td>all</td>\n",
       "      <td>NB</td>\n",
       "      <td>bool-bow</td>\n",
       "      <td>0.735625</td>\n",
       "      <td>0.701965</td>\n",
       "      <td>0.810845</td>\n",
       "      <td>0.752487</td>\n",
       "    </tr>\n",
       "    <tr>\n",
       "      <th>all NB lexicon</th>\n",
       "      <td>all</td>\n",
       "      <td>NB</td>\n",
       "      <td>lexicon</td>\n",
       "      <td>0.514375</td>\n",
       "      <td>0.505917</td>\n",
       "      <td>0.862547</td>\n",
       "      <td>0.637762</td>\n",
       "    </tr>\n",
       "    <tr>\n",
       "      <th>all LR bow</th>\n",
       "      <td>all</td>\n",
       "      <td>LR</td>\n",
       "      <td>bow</td>\n",
       "      <td>0.867500</td>\n",
       "      <td>0.851270</td>\n",
       "      <td>0.887768</td>\n",
       "      <td>0.869136</td>\n",
       "    </tr>\n",
       "    <tr>\n",
       "      <th>all LR bool-bow</th>\n",
       "      <td>all</td>\n",
       "      <td>LR</td>\n",
       "      <td>bool-bow</td>\n",
       "      <td>0.866250</td>\n",
       "      <td>0.850909</td>\n",
       "      <td>0.885246</td>\n",
       "      <td>0.867738</td>\n",
       "    </tr>\n",
       "    <tr>\n",
       "      <th>all LR lexicon</th>\n",
       "      <td>all</td>\n",
       "      <td>LR</td>\n",
       "      <td>lexicon</td>\n",
       "      <td>0.703750</td>\n",
       "      <td>0.704225</td>\n",
       "      <td>0.693569</td>\n",
       "      <td>0.698856</td>\n",
       "    </tr>\n",
       "    <tr>\n",
       "      <th>all DT bow</th>\n",
       "      <td>all</td>\n",
       "      <td>DT</td>\n",
       "      <td>bow</td>\n",
       "      <td>0.725000</td>\n",
       "      <td>0.712907</td>\n",
       "      <td>0.745271</td>\n",
       "      <td>0.728730</td>\n",
       "    </tr>\n",
       "    <tr>\n",
       "      <th>all DT bool-bow</th>\n",
       "      <td>all</td>\n",
       "      <td>DT</td>\n",
       "      <td>bool-bow</td>\n",
       "      <td>0.714375</td>\n",
       "      <td>0.700477</td>\n",
       "      <td>0.740227</td>\n",
       "      <td>0.719804</td>\n",
       "    </tr>\n",
       "    <tr>\n",
       "      <th>all DT lexicon</th>\n",
       "      <td>all</td>\n",
       "      <td>DT</td>\n",
       "      <td>lexicon</td>\n",
       "      <td>0.997500</td>\n",
       "      <td>1.000000</td>\n",
       "      <td>0.994956</td>\n",
       "      <td>0.997472</td>\n",
       "    </tr>\n",
       "    <tr>\n",
       "      <th>all RF bow</th>\n",
       "      <td>all</td>\n",
       "      <td>RF</td>\n",
       "      <td>bow</td>\n",
       "      <td>0.846875</td>\n",
       "      <td>0.852185</td>\n",
       "      <td>0.836066</td>\n",
       "      <td>0.844048</td>\n",
       "    </tr>\n",
       "    <tr>\n",
       "      <th>all RF bool-bow</th>\n",
       "      <td>all</td>\n",
       "      <td>RF</td>\n",
       "      <td>bool-bow</td>\n",
       "      <td>0.846250</td>\n",
       "      <td>0.858453</td>\n",
       "      <td>0.825977</td>\n",
       "      <td>0.841902</td>\n",
       "    </tr>\n",
       "    <tr>\n",
       "      <th>all RF lexicon</th>\n",
       "      <td>all</td>\n",
       "      <td>RF</td>\n",
       "      <td>lexicon</td>\n",
       "      <td>0.997500</td>\n",
       "      <td>1.000000</td>\n",
       "      <td>0.994956</td>\n",
       "      <td>0.997472</td>\n",
       "    </tr>\n",
       "  </tbody>\n",
       "</table>\n",
       "</div>"
      ],
      "text/plain": [
       "                dataset classifier     model  accuracy  precision    recall  \\\n",
       "all NB bow          all         NB       bow  0.726875   0.698661  0.789407   \n",
       "all NB bool-bow     all         NB  bool-bow  0.735625   0.701965  0.810845   \n",
       "all NB lexicon      all         NB   lexicon  0.514375   0.505917  0.862547   \n",
       "all LR bow          all         LR       bow  0.867500   0.851270  0.887768   \n",
       "all LR bool-bow     all         LR  bool-bow  0.866250   0.850909  0.885246   \n",
       "all LR lexicon      all         LR   lexicon  0.703750   0.704225  0.693569   \n",
       "all DT bow          all         DT       bow  0.725000   0.712907  0.745271   \n",
       "all DT bool-bow     all         DT  bool-bow  0.714375   0.700477  0.740227   \n",
       "all DT lexicon      all         DT   lexicon  0.997500   1.000000  0.994956   \n",
       "all RF bow          all         RF       bow  0.846875   0.852185  0.836066   \n",
       "all RF bool-bow     all         RF  bool-bow  0.846250   0.858453  0.825977   \n",
       "all RF lexicon      all         RF   lexicon  0.997500   1.000000  0.994956   \n",
       "\n",
       "                 f1_score  \n",
       "all NB bow       0.741267  \n",
       "all NB bool-bow  0.752487  \n",
       "all NB lexicon   0.637762  \n",
       "all LR bow       0.869136  \n",
       "all LR bool-bow  0.867738  \n",
       "all LR lexicon   0.698856  \n",
       "all DT bow       0.728730  \n",
       "all DT bool-bow  0.719804  \n",
       "all DT lexicon   0.997472  \n",
       "all RF bow       0.844048  \n",
       "all RF bool-bow  0.841902  \n",
       "all RF lexicon   0.997472  "
      ]
     },
     "execution_count": 43,
     "metadata": {},
     "output_type": "execute_result"
    }
   ],
   "source": [
    "df[df['dataset']=='all']"
   ]
  },
  {
   "cell_type": "code",
   "execution_count": 15,
   "metadata": {},
   "outputs": [],
   "source": [
    "df.to_latex('./resources/SA-df.txt', float_format=\"%.2f\", longtable=True, \n",
    "            caption='Análisis de sentimientos (resultados de modelos)')"
   ]
  },
  {
   "cell_type": "code",
   "execution_count": 13,
   "metadata": {},
   "outputs": [
    {
     "data": {
      "image/png": "[encoded data removed]",
      "text/plain": [
       "<Figure size 864x576 with 1 Axes>"
      ]
     },
     "metadata": {
      "needs_background": "light"
     },
     "output_type": "display_data"
    }
   ],
   "source": [
    "df.groupby('classifier').mean().plot.bar(figsize=(12,8), rot=48)\n",
    "plt.title('Comparación de clasificadores', fontsize=20)\n",
    "plt.xlabel('Clasificador', fontsize=15)\n",
    "plt.ylabel('Porcentaje', fontsize=15)\n",
    "plt.grid()\n",
    "plt.savefig('./results/classifier_comparison.png')"
   ]
  },
  {
   "cell_type": "code",
   "execution_count": 14,
   "metadata": {},
   "outputs": [
    {
     "data": {
      "image/png": "[encoded data removed]",
      "text/plain": [
       "<Figure size 864x576 with 1 Axes>"
      ]
     },
     "metadata": {
      "needs_background": "light"
     },
     "output_type": "display_data"
    }
   ],
   "source": [
    "df.groupby('model').mean().plot.bar(figsize=(12,8), rot=48)\n",
    "plt.title('Comparación de modelos', fontsize=20)\n",
    "plt.xlabel('Modelo', fontsize=15)\n",
    "plt.ylabel('Porcentaje', fontsize=15)\n",
    "plt.grid()\n",
    "plt.savefig('./results/model_comparison.png')"
   ]
  },
  {
   "cell_type": "code",
   "execution_count": 15,
   "metadata": {},
   "outputs": [
    {
     "data": {
      "image/png": "[encoded data removed]",
      "text/plain": [
       "<Figure size 864x576 with 1 Axes>"
      ]
     },
     "metadata": {
      "needs_background": "light"
     },
     "output_type": "display_data"
    }
   ],
   "source": [
    "df.groupby('dataset').mean().plot.bar(figsize=(12,8), rot=48)\n",
    "plt.title('Comparación de datasets', fontsize=20)\n",
    "plt.xlabel('Categoría', fontsize=15)\n",
    "plt.ylabel('Porcentaje', fontsize=15)\n",
    "plt.grid()\n",
    "plt.savefig('./results/datasets_comparison.png')"
   ]
  },
  {
   "cell_type": "markdown",
   "metadata": {},
   "source": [
    "### Testing best models (test_dataset)"
   ]
  },
  {
   "cell_type": "code",
   "execution_count": 34,
   "metadata": {},
   "outputs": [
    {
     "name": "stdout",
     "output_type": "stream",
     "text": [
      "Expected accuracy in unknown dataset: 0.828\n",
      "Expected precision in unknown dataset: 0.825\n",
      "Expected recall in unknown dataset: 0.838\n",
      "Expected f1-score in unknown dataset: 0.832\n"
     ]
    }
   ],
   "source": [
    "# Best model for books\n",
    "path = './data/SA/books/bool-labeled.npy'\n",
    "data = np.transpose(np.load(path))\n",
    "X = data[:,:-1]\n",
    "y = data[:,-1]\n",
    "X_train, X_val, y_train, y_val = train_test_split(X, y, test_size=0.2, random_state=15)\n",
    "test = np.transpose(np.load('./data/SA/books/bool-unlabeled.npy'))\n",
    "X_test = test[:,:-1]; y_test = test[:,-1]\n",
    "clf = LogisticRegression(random_state=0)\n",
    "clf.fit(X_train, y_train)\n",
    "y_pred = clf.predict(X_test)\n",
    "print('Expected accuracy in unknown dataset: %.3f' %(metrics.accuracy_score(y_test, y_pred)))\n",
    "print('Expected precision in unknown dataset: %.3f' %(metrics.precision_score(y_test, y_pred)))\n",
    "print('Expected recall in unknown dataset: %.3f' %(metrics.recall_score(y_test, y_pred)))\n",
    "print('Expected f1-score in unknown dataset: %.3f' %(metrics.f1_score(y_test, y_pred)))"
   ]
  },
  {
   "cell_type": "code",
   "execution_count": 35,
   "metadata": {},
   "outputs": [
    {
     "name": "stdout",
     "output_type": "stream",
     "text": [
      "Expected accuracy in unknown dataset: 0.874\n",
      "Expected precision in unknown dataset: 0.875\n",
      "Expected recall in unknown dataset: 0.871\n",
      "Expected f1-score in unknown dataset: 0.873\n"
     ]
    }
   ],
   "source": [
    "# Best model for kitchen\n",
    "path = './data/SA/kitchen/labeled.npy'\n",
    "data = np.transpose(np.load(path))\n",
    "X = data[:,:-1]\n",
    "y = data[:,-1]\n",
    "X_train, X_val, y_train, y_val = train_test_split(X, y, test_size=0.2, random_state=15)\n",
    "test = np.transpose(np.load('./data/SA/kitchen/unlabeled.npy'))\n",
    "X_test = test[:,:-1]; y_test = test[:,-1]\n",
    "clf = LogisticRegression(random_state=0)\n",
    "clf.fit(X_train, y_train)\n",
    "y_pred = clf.predict(X_test)\n",
    "print('Expected accuracy in unknown dataset: %.3f' %(metrics.accuracy_score(y_test, y_pred)))\n",
    "print('Expected precision in unknown dataset: %.3f' %(metrics.precision_score(y_test, y_pred)))\n",
    "print('Expected recall in unknown dataset: %.3f' %(metrics.recall_score(y_test, y_pred)))\n",
    "print('Expected f1-score in unknown dataset: %.3f' %(metrics.f1_score(y_test, y_pred)))"
   ]
  },
  {
   "cell_type": "code",
   "execution_count": 37,
   "metadata": {},
   "outputs": [
    {
     "name": "stdout",
     "output_type": "stream",
     "text": [
      "Expected accuracy in unknown dataset: 0.808\n",
      "Expected precision in unknown dataset: 0.781\n",
      "Expected recall in unknown dataset: 0.861\n",
      "Expected f1-score in unknown dataset: 0.819\n"
     ]
    }
   ],
   "source": [
    "# Best model for dvd\n",
    "path = './data/SA/dvd/bool-labeled.npy'\n",
    "data = np.transpose(np.load(path))\n",
    "X = data[:,:-1]\n",
    "y = data[:,-1]\n",
    "X_train, X_val, y_train, y_val = train_test_split(X, y, test_size=0.2, random_state=15)\n",
    "test = np.transpose(np.load('./data/SA/dvd/bool-unlabeled.npy'))\n",
    "X_test = test[:,:-1]; y_test = test[:,-1]\n",
    "clf = RandomForestClassifier(random_state=0)\n",
    "clf.fit(X_train, y_train)\n",
    "y_pred = clf.predict(X_test)\n",
    "print('Expected accuracy in unknown dataset: %.3f' %(metrics.accuracy_score(y_test, y_pred)))\n",
    "print('Expected precision in unknown dataset: %.3f' %(metrics.precision_score(y_test, y_pred)))\n",
    "print('Expected recall in unknown dataset: %.3f' %(metrics.recall_score(y_test, y_pred)))\n",
    "print('Expected f1-score in unknown dataset: %.3f' %(metrics.f1_score(y_test, y_pred)))"
   ]
  },
  {
   "cell_type": "code",
   "execution_count": 38,
   "metadata": {},
   "outputs": [
    {
     "name": "stdout",
     "output_type": "stream",
     "text": [
      "Expected accuracy in unknown dataset: 0.863\n",
      "Expected precision in unknown dataset: 0.861\n",
      "Expected recall in unknown dataset: 0.869\n",
      "Expected f1-score in unknown dataset: 0.865\n"
     ]
    }
   ],
   "source": [
    "# Best model for electronics\n",
    "path = './data/SA/electronics/bool-labeled.npy'\n",
    "data = np.transpose(np.load(path))\n",
    "X = data[:,:-1]\n",
    "y = data[:,-1]\n",
    "X_train, X_val, y_train, y_val = train_test_split(X, y, test_size=0.2, random_state=15)\n",
    "test = np.transpose(np.load('./data/SA/electronics/bool-unlabeled.npy'))\n",
    "X_test = test[:,:-1]; y_test = test[:,-1]\n",
    "clf = LogisticRegression(random_state=0)\n",
    "clf.fit(X_train, y_train)\n",
    "y_pred = clf.predict(X_test)\n",
    "print('Expected accuracy in unknown dataset: %.3f' %(metrics.accuracy_score(y_test, y_pred)))\n",
    "print('Expected precision in unknown dataset: %.3f' %(metrics.precision_score(y_test, y_pred)))\n",
    "print('Expected recall in unknown dataset: %.3f' %(metrics.recall_score(y_test, y_pred)))\n",
    "print('Expected f1-score in unknown dataset: %.3f' %(metrics.f1_score(y_test, y_pred)))"
   ]
  },
  {
   "cell_type": "code",
   "execution_count": 45,
   "metadata": {},
   "outputs": [
    {
     "name": "stdout",
     "output_type": "stream",
     "text": [
      "Expected accuracy in unknown dataset: 0.843\n",
      "Expected precision in unknown dataset: 0.858\n",
      "Expected recall in unknown dataset: 0.823\n",
      "Expected f1-score in unknown dataset: 0.840\n"
     ]
    }
   ],
   "source": [
    "# Best model for all\n",
    "path = './data/SA/all/bool-labeled.npy'\n",
    "data = np.transpose(np.load(path))\n",
    "X = data[:,:-1]\n",
    "y = data[:,-1]\n",
    "X_train, X_val, y_train, y_val = train_test_split(X, y, test_size=0.2, random_state=15)\n",
    "test = np.transpose(np.load('./data/SA/all/bool-unlabeled.npy'))\n",
    "X_test = test[:,:-1]; y_test = test[:,-1]\n",
    "clf = RandomForestClassifier(random_state=0)\n",
    "clf.fit(X_train, y_train)\n",
    "y_pred = clf.predict(X_test)\n",
    "print('Expected accuracy in unknown dataset: %.3f' %(metrics.accuracy_score(y_test, y_pred)))\n",
    "print('Expected precision in unknown dataset: %.3f' %(metrics.precision_score(y_test, y_pred)))\n",
    "print('Expected recall in unknown dataset: %.3f' %(metrics.recall_score(y_test, y_pred)))\n",
    "print('Expected f1-score in unknown dataset: %.3f' %(metrics.f1_score(y_test, y_pred)))"
   ]
  },
  {
   "cell_type": "markdown",
   "metadata": {},
   "source": [
    "### Most important feature for LR"
   ]
  },
  {
   "cell_type": "code",
   "execution_count": 63,
   "metadata": {},
   "outputs": [
    {
     "data": {
      "text/html": [
       "<div>\n",
       "<style scoped>\n",
       "    .dataframe tbody tr th:only-of-type {\n",
       "        vertical-align: middle;\n",
       "    }\n",
       "\n",
       "    .dataframe tbody tr th {\n",
       "        vertical-align: top;\n",
       "    }\n",
       "\n",
       "    .dataframe thead th {\n",
       "        text-align: right;\n",
       "    }\n",
       "</style>\n",
       "<table border=\"1\" class=\"dataframe\">\n",
       "  <thead>\n",
       "    <tr style=\"text-align: right;\">\n",
       "      <th></th>\n",
       "      <th>dataset</th>\n",
       "      <th>classifier</th>\n",
       "      <th>model</th>\n",
       "      <th>accuracy</th>\n",
       "      <th>precision</th>\n",
       "      <th>recall</th>\n",
       "      <th>f1_score</th>\n",
       "      <th>most_important_feature</th>\n",
       "    </tr>\n",
       "  </thead>\n",
       "  <tbody>\n",
       "    <tr>\n",
       "      <th>books LR bow</th>\n",
       "      <td>books</td>\n",
       "      <td>LR</td>\n",
       "      <td>bow</td>\n",
       "      <td>0.81250</td>\n",
       "      <td>0.802030</td>\n",
       "      <td>0.814433</td>\n",
       "      <td>0.808184</td>\n",
       "      <td>14104</td>\n",
       "    </tr>\n",
       "    <tr>\n",
       "      <th>books LR bool-bow</th>\n",
       "      <td>books</td>\n",
       "      <td>LR</td>\n",
       "      <td>bool-bow</td>\n",
       "      <td>0.83250</td>\n",
       "      <td>0.829016</td>\n",
       "      <td>0.824742</td>\n",
       "      <td>0.826873</td>\n",
       "      <td>14104</td>\n",
       "    </tr>\n",
       "    <tr>\n",
       "      <th>books LR lexicon</th>\n",
       "      <td>books</td>\n",
       "      <td>LR</td>\n",
       "      <td>lexicon</td>\n",
       "      <td>0.72000</td>\n",
       "      <td>0.713542</td>\n",
       "      <td>0.706186</td>\n",
       "      <td>0.709845</td>\n",
       "      <td>2</td>\n",
       "    </tr>\n",
       "    <tr>\n",
       "      <th>dvd LR bow</th>\n",
       "      <td>dvd</td>\n",
       "      <td>LR</td>\n",
       "      <td>bow</td>\n",
       "      <td>0.82250</td>\n",
       "      <td>0.818653</td>\n",
       "      <td>0.814433</td>\n",
       "      <td>0.816537</td>\n",
       "      <td>13605</td>\n",
       "    </tr>\n",
       "    <tr>\n",
       "      <th>dvd LR bool-bow</th>\n",
       "      <td>dvd</td>\n",
       "      <td>LR</td>\n",
       "      <td>bool-bow</td>\n",
       "      <td>0.83500</td>\n",
       "      <td>0.829897</td>\n",
       "      <td>0.829897</td>\n",
       "      <td>0.829897</td>\n",
       "      <td>16958</td>\n",
       "    </tr>\n",
       "    <tr>\n",
       "      <th>dvd LR lexicon</th>\n",
       "      <td>dvd</td>\n",
       "      <td>LR</td>\n",
       "      <td>lexicon</td>\n",
       "      <td>0.72000</td>\n",
       "      <td>0.713542</td>\n",
       "      <td>0.706186</td>\n",
       "      <td>0.709845</td>\n",
       "      <td>2</td>\n",
       "    </tr>\n",
       "    <tr>\n",
       "      <th>electronics LR bow</th>\n",
       "      <td>electronics</td>\n",
       "      <td>LR</td>\n",
       "      <td>bow</td>\n",
       "      <td>0.86250</td>\n",
       "      <td>0.835749</td>\n",
       "      <td>0.891753</td>\n",
       "      <td>0.862843</td>\n",
       "      <td>9936</td>\n",
       "    </tr>\n",
       "    <tr>\n",
       "      <th>electronics LR bool-bow</th>\n",
       "      <td>electronics</td>\n",
       "      <td>LR</td>\n",
       "      <td>bool-bow</td>\n",
       "      <td>0.88250</td>\n",
       "      <td>0.851675</td>\n",
       "      <td>0.917526</td>\n",
       "      <td>0.883375</td>\n",
       "      <td>9936</td>\n",
       "    </tr>\n",
       "    <tr>\n",
       "      <th>electronics LR lexicon</th>\n",
       "      <td>electronics</td>\n",
       "      <td>LR</td>\n",
       "      <td>lexicon</td>\n",
       "      <td>0.72000</td>\n",
       "      <td>0.713542</td>\n",
       "      <td>0.706186</td>\n",
       "      <td>0.709845</td>\n",
       "      <td>2</td>\n",
       "    </tr>\n",
       "    <tr>\n",
       "      <th>kitchen LR bow</th>\n",
       "      <td>kitchen</td>\n",
       "      <td>LR</td>\n",
       "      <td>bow</td>\n",
       "      <td>0.91000</td>\n",
       "      <td>0.891089</td>\n",
       "      <td>0.927835</td>\n",
       "      <td>0.909091</td>\n",
       "      <td>8501</td>\n",
       "    </tr>\n",
       "    <tr>\n",
       "      <th>kitchen LR bool-bow</th>\n",
       "      <td>kitchen</td>\n",
       "      <td>LR</td>\n",
       "      <td>bool-bow</td>\n",
       "      <td>0.89750</td>\n",
       "      <td>0.888325</td>\n",
       "      <td>0.902062</td>\n",
       "      <td>0.895141</td>\n",
       "      <td>8501</td>\n",
       "    </tr>\n",
       "    <tr>\n",
       "      <th>kitchen LR lexicon</th>\n",
       "      <td>kitchen</td>\n",
       "      <td>LR</td>\n",
       "      <td>lexicon</td>\n",
       "      <td>0.72000</td>\n",
       "      <td>0.713542</td>\n",
       "      <td>0.706186</td>\n",
       "      <td>0.709845</td>\n",
       "      <td>2</td>\n",
       "    </tr>\n",
       "    <tr>\n",
       "      <th>all LR bow</th>\n",
       "      <td>all</td>\n",
       "      <td>LR</td>\n",
       "      <td>bow</td>\n",
       "      <td>0.86750</td>\n",
       "      <td>0.851270</td>\n",
       "      <td>0.887768</td>\n",
       "      <td>0.869136</td>\n",
       "      <td>29189</td>\n",
       "    </tr>\n",
       "    <tr>\n",
       "      <th>all LR bool-bow</th>\n",
       "      <td>all</td>\n",
       "      <td>LR</td>\n",
       "      <td>bool-bow</td>\n",
       "      <td>0.86625</td>\n",
       "      <td>0.850909</td>\n",
       "      <td>0.885246</td>\n",
       "      <td>0.867738</td>\n",
       "      <td>29189</td>\n",
       "    </tr>\n",
       "    <tr>\n",
       "      <th>all LR lexicon</th>\n",
       "      <td>all</td>\n",
       "      <td>LR</td>\n",
       "      <td>lexicon</td>\n",
       "      <td>0.70375</td>\n",
       "      <td>0.704225</td>\n",
       "      <td>0.693569</td>\n",
       "      <td>0.698856</td>\n",
       "      <td>7</td>\n",
       "    </tr>\n",
       "  </tbody>\n",
       "</table>\n",
       "</div>"
      ],
      "text/plain": [
       "                             dataset classifier     model  accuracy  \\\n",
       "books LR bow                   books         LR       bow   0.81250   \n",
       "books LR bool-bow              books         LR  bool-bow   0.83250   \n",
       "books LR lexicon               books         LR   lexicon   0.72000   \n",
       "dvd LR bow                       dvd         LR       bow   0.82250   \n",
       "dvd LR bool-bow                  dvd         LR  bool-bow   0.83500   \n",
       "dvd LR lexicon                   dvd         LR   lexicon   0.72000   \n",
       "electronics LR bow       electronics         LR       bow   0.86250   \n",
       "electronics LR bool-bow  electronics         LR  bool-bow   0.88250   \n",
       "electronics LR lexicon   electronics         LR   lexicon   0.72000   \n",
       "kitchen LR bow               kitchen         LR       bow   0.91000   \n",
       "kitchen LR bool-bow          kitchen         LR  bool-bow   0.89750   \n",
       "kitchen LR lexicon           kitchen         LR   lexicon   0.72000   \n",
       "all LR bow                       all         LR       bow   0.86750   \n",
       "all LR bool-bow                  all         LR  bool-bow   0.86625   \n",
       "all LR lexicon                   all         LR   lexicon   0.70375   \n",
       "\n",
       "                         precision    recall  f1_score  most_important_feature  \n",
       "books LR bow              0.802030  0.814433  0.808184                   14104  \n",
       "books LR bool-bow         0.829016  0.824742  0.826873                   14104  \n",
       "books LR lexicon          0.713542  0.706186  0.709845                       2  \n",
       "dvd LR bow                0.818653  0.814433  0.816537                   13605  \n",
       "dvd LR bool-bow           0.829897  0.829897  0.829897                   16958  \n",
       "dvd LR lexicon            0.713542  0.706186  0.709845                       2  \n",
       "electronics LR bow        0.835749  0.891753  0.862843                    9936  \n",
       "electronics LR bool-bow   0.851675  0.917526  0.883375                    9936  \n",
       "electronics LR lexicon    0.713542  0.706186  0.709845                       2  \n",
       "kitchen LR bow            0.891089  0.927835  0.909091                    8501  \n",
       "kitchen LR bool-bow       0.888325  0.902062  0.895141                    8501  \n",
       "kitchen LR lexicon        0.713542  0.706186  0.709845                       2  \n",
       "all LR bow                0.851270  0.887768  0.869136                   29189  \n",
       "all LR bool-bow           0.850909  0.885246  0.867738                   29189  \n",
       "all LR lexicon            0.704225  0.693569  0.698856                       7  "
      ]
     },
     "execution_count": 63,
     "metadata": {},
     "output_type": "execute_result"
    }
   ],
   "source": [
    "LR_most_important = []\n",
    "for LR in LR_coeffs:\n",
    "    LR_most_important.append(np.argmax(LR))\n",
    "dfLR = df[df['classifier']=='LR'].copy()\n",
    "dfLR['most_important_feature'] = np.array(LR_most_important)\n",
    "dfLR"
   ]
  },
  {
   "cell_type": "code",
   "execution_count": 71,
   "metadata": {},
   "outputs": [
    {
     "name": "stdout",
     "output_type": "stream",
     "text": [
      "most importante feature for books category: excellent\n",
      "most importante feature for dvd category: great and excellent\n",
      "most importante feature for electronics category: great\n",
      "most importante feature for kitchen category: great\n",
      "most importante feature for all category: excellent\n",
      "for lexicon features the most important feature was # of neg words according to sentiwordnet\n",
      "for lexicon features the most important feature was # of pos words according to ANFII\n"
     ]
    }
   ],
   "source": [
    "dict_bool = np.load('./data/SA/books/dictionary.npy')\n",
    "print('most importante feature for books category: ' + dict_bool[14104])\n",
    "dict_bool = np.load('./data/SA/dvd/dictionary.npy')\n",
    "print('most importante feature for dvd category: ' + dict_bool[16958] + ' and ' + dict_bool[13605])\n",
    "dict_bool = np.load('./data/SA/electronics/dictionary.npy')\n",
    "print('most importante feature for electronics category: ' + dict_bool[9936])\n",
    "dict_bool = np.load('./data/SA/kitchen/dictionary.npy')\n",
    "print('most importante feature for kitchen category: ' + dict_bool[8501])\n",
    "dict_bool = np.load('./data/SA/all/dictionary.npy')\n",
    "print('most importante feature for all category: ' + dict_bool[29189])\n",
    "print('for lexicon features the most important feature was # of neg words according to sentiwordnet')\n",
    "print('for lexicon features the most important feature was # of pos words according to ANFII')"
   ]
  },
  {
   "cell_type": "markdown",
   "metadata": {},
   "source": [
    "### Testing random forest hyperparameteres"
   ]
  },
  {
   "cell_type": "code",
   "execution_count": 18,
   "metadata": {},
   "outputs": [
    {
     "name": "stdout",
     "output_type": "stream",
     "text": [
      "# Tuning hyper-parameters for precision\n",
      "\n",
      "Best parameters set found on development set:\n",
      "\n",
      "{'n_estimators': 332, 'max_features': 'log2'}\n",
      "\n",
      "Grid scores on development set:\n",
      "\n",
      "0.840 (+/-0.013) for {'n_estimators': 870, 'max_features': 'sqrt'}\n",
      "0.841 (+/-0.013) for {'n_estimators': 981, 'max_features': 'auto'}\n",
      "0.840 (+/-0.013) for {'n_estimators': 870, 'max_features': 'auto'}\n",
      "0.839 (+/-0.017) for {'n_estimators': 692, 'max_features': 'auto'}\n",
      "0.841 (+/-0.013) for {'n_estimators': 919, 'max_features': 'auto'}\n",
      "0.840 (+/-0.016) for {'n_estimators': 686, 'max_features': 'sqrt'}\n",
      "0.843 (+/-0.010) for {'n_estimators': 332, 'max_features': 'log2'}\n",
      "0.840 (+/-0.013) for {'n_estimators': 783, 'max_features': 'sqrt'}\n",
      "0.839 (+/-0.011) for {'n_estimators': 401, 'max_features': 'auto'}\n",
      "0.840 (+/-0.013) for {'n_estimators': 967, 'max_features': 'auto'}\n",
      "\n",
      "Detailed classification report:\n",
      "\n",
      "The model is trained on the full development set.\n",
      "The scores are computed on the full evaluation set.\n",
      "\n",
      "              precision    recall  f1-score   support\n",
      "\n",
      "       False       0.88      0.86      0.87       807\n",
      "        True       0.86      0.88      0.87       793\n",
      "\n",
      "    accuracy                           0.87      1600\n",
      "   macro avg       0.87      0.87      0.87      1600\n",
      "weighted avg       0.87      0.87      0.87      1600\n",
      "\n",
      "\n",
      "# Tuning hyper-parameters for recall\n",
      "\n",
      "Best parameters set found on development set:\n",
      "\n",
      "{'n_estimators': 657, 'max_features': 'log2'}\n",
      "\n",
      "Grid scores on development set:\n",
      "\n",
      "0.850 (+/-0.008) for {'n_estimators': 657, 'max_features': 'log2'}\n",
      "0.850 (+/-0.005) for {'n_estimators': 677, 'max_features': 'log2'}\n",
      "0.840 (+/-0.014) for {'n_estimators': 902, 'max_features': 'auto'}\n",
      "0.840 (+/-0.012) for {'n_estimators': 357, 'max_features': 'auto'}\n",
      "0.848 (+/-0.006) for {'n_estimators': 757, 'max_features': 'log2'}\n",
      "0.838 (+/-0.011) for {'n_estimators': 332, 'max_features': 'auto'}\n",
      "0.839 (+/-0.016) for {'n_estimators': 817, 'max_features': 'auto'}\n",
      "0.838 (+/-0.015) for {'n_estimators': 853, 'max_features': 'auto'}\n",
      "0.840 (+/-0.009) for {'n_estimators': 377, 'max_features': 'auto'}\n",
      "0.840 (+/-0.015) for {'n_estimators': 677, 'max_features': 'sqrt'}\n",
      "\n",
      "Detailed classification report:\n",
      "\n",
      "The model is trained on the full development set.\n",
      "The scores are computed on the full evaluation set.\n",
      "\n",
      "              precision    recall  f1-score   support\n",
      "\n",
      "       False       0.88      0.86      0.87       807\n",
      "        True       0.86      0.88      0.87       793\n",
      "\n",
      "    accuracy                           0.87      1600\n",
      "   macro avg       0.87      0.87      0.87      1600\n",
      "weighted avg       0.87      0.87      0.87      1600\n",
      "\n",
      "\n"
     ]
    }
   ],
   "source": [
    "clfs_all_b = test_rf_hyperparameters('all', 'bool-bow')"
   ]
  },
  {
   "cell_type": "code",
   "execution_count": 19,
   "metadata": {},
   "outputs": [
    {
     "name": "stdout",
     "output_type": "stream",
     "text": [
      "# Tuning hyper-parameters for precision\n",
      "\n",
      "Best parameters set found on development set:\n",
      "\n",
      "{'n_estimators': 722, 'max_features': 'log2'}\n",
      "\n",
      "Grid scores on development set:\n",
      "\n",
      "0.827 (+/-0.008) for {'n_estimators': 98, 'max_features': 'sqrt'}\n",
      "0.841 (+/-0.014) for {'n_estimators': 384, 'max_features': 'sqrt'}\n",
      "0.826 (+/-0.017) for {'n_estimators': 195, 'max_features': 'log2'}\n",
      "0.840 (+/-0.011) for {'n_estimators': 967, 'max_features': 'auto'}\n",
      "0.835 (+/-0.010) for {'n_estimators': 165, 'max_features': 'auto'}\n",
      "0.844 (+/-0.018) for {'n_estimators': 722, 'max_features': 'log2'}\n",
      "0.830 (+/-0.012) for {'n_estimators': 212, 'max_features': 'log2'}\n",
      "0.841 (+/-0.013) for {'n_estimators': 868, 'max_features': 'sqrt'}\n",
      "0.841 (+/-0.015) for {'n_estimators': 438, 'max_features': 'auto'}\n",
      "0.839 (+/-0.010) for {'n_estimators': 180, 'max_features': 'sqrt'}\n",
      "\n",
      "Detailed classification report:\n",
      "\n",
      "The model is trained on the full development set.\n",
      "The scores are computed on the full evaluation set.\n",
      "\n",
      "              precision    recall  f1-score   support\n",
      "\n",
      "           0       0.88      0.88      0.88       807\n",
      "           1       0.88      0.88      0.88       793\n",
      "\n",
      "    accuracy                           0.88      1600\n",
      "   macro avg       0.88      0.88      0.88      1600\n",
      "weighted avg       0.88      0.88      0.88      1600\n",
      "\n",
      "\n",
      "# Tuning hyper-parameters for recall\n",
      "\n",
      "Best parameters set found on development set:\n",
      "\n",
      "{'n_estimators': 981, 'max_features': 'log2'}\n",
      "\n",
      "Grid scores on development set:\n",
      "\n",
      "0.826 (+/-0.011) for {'n_estimators': 103, 'max_features': 'sqrt'}\n",
      "0.840 (+/-0.011) for {'n_estimators': 970, 'max_features': 'auto'}\n",
      "0.846 (+/-0.019) for {'n_estimators': 981, 'max_features': 'log2'}\n",
      "0.839 (+/-0.010) for {'n_estimators': 272, 'max_features': 'auto'}\n",
      "0.840 (+/-0.012) for {'n_estimators': 967, 'max_features': 'auto'}\n",
      "0.835 (+/-0.018) for {'n_estimators': 272, 'max_features': 'log2'}\n",
      "0.834 (+/-0.009) for {'n_estimators': 165, 'max_features': 'sqrt'}\n",
      "0.840 (+/-0.014) for {'n_estimators': 384, 'max_features': 'sqrt'}\n",
      "0.841 (+/-0.013) for {'n_estimators': 870, 'max_features': 'sqrt'}\n",
      "0.841 (+/-0.012) for {'n_estimators': 874, 'max_features': 'auto'}\n",
      "\n",
      "Detailed classification report:\n",
      "\n",
      "The model is trained on the full development set.\n",
      "The scores are computed on the full evaluation set.\n",
      "\n",
      "              precision    recall  f1-score   support\n",
      "\n",
      "           0       0.88      0.88      0.88       807\n",
      "           1       0.88      0.88      0.88       793\n",
      "\n",
      "    accuracy                           0.88      1600\n",
      "   macro avg       0.88      0.88      0.88      1600\n",
      "weighted avg       0.88      0.88      0.88      1600\n",
      "\n",
      "\n"
     ]
    }
   ],
   "source": [
    "clfs_all = test_rf_hyperparameters('all', 'bow')"
   ]
  },
  {
   "cell_type": "code",
   "execution_count": 20,
   "metadata": {},
   "outputs": [
    {
     "name": "stdout",
     "output_type": "stream",
     "text": [
      "# Tuning hyper-parameters for precision\n",
      "\n",
      "Best parameters set found on development set:\n",
      "\n",
      "{'n_estimators': 103, 'max_features': 'auto'}\n",
      "\n",
      "Grid scores on development set:\n",
      "\n",
      "0.989 (+/-0.006) for {'n_estimators': 332, 'max_features': 'sqrt'}\n",
      "0.989 (+/-0.006) for {'n_estimators': 609, 'max_features': 'sqrt'}\n",
      "0.989 (+/-0.006) for {'n_estimators': 997, 'max_features': 'sqrt'}\n",
      "0.989 (+/-0.006) for {'n_estimators': 416, 'max_features': 'auto'}\n",
      "0.989 (+/-0.006) for {'n_estimators': 817, 'max_features': 'auto'}\n",
      "0.989 (+/-0.006) for {'n_estimators': 981, 'max_features': 'sqrt'}\n",
      "0.989 (+/-0.006) for {'n_estimators': 438, 'max_features': 'auto'}\n",
      "0.989 (+/-0.006) for {'n_estimators': 238, 'max_features': 'auto'}\n",
      "0.990 (+/-0.006) for {'n_estimators': 103, 'max_features': 'auto'}\n",
      "0.989 (+/-0.006) for {'n_estimators': 692, 'max_features': 'sqrt'}\n",
      "\n",
      "Detailed classification report:\n",
      "\n",
      "The model is trained on the full development set.\n",
      "The scores are computed on the full evaluation set.\n",
      "\n",
      "              precision    recall  f1-score   support\n",
      "\n",
      "         0.0       1.00      1.00      1.00       807\n",
      "         1.0       1.00      1.00      1.00       793\n",
      "\n",
      "    accuracy                           1.00      1600\n",
      "   macro avg       1.00      1.00      1.00      1600\n",
      "weighted avg       1.00      1.00      1.00      1600\n",
      "\n",
      "\n",
      "# Tuning hyper-parameters for recall\n",
      "\n",
      "Best parameters set found on development set:\n",
      "\n",
      "{'n_estimators': 401, 'max_features': 'log2'}\n",
      "\n",
      "Grid scores on development set:\n",
      "\n",
      "0.989 (+/-0.006) for {'n_estimators': 783, 'max_features': 'auto'}\n",
      "0.989 (+/-0.006) for {'n_estimators': 686, 'max_features': 'auto'}\n",
      "0.989 (+/-0.006) for {'n_estimators': 997, 'max_features': 'sqrt'}\n",
      "0.989 (+/-0.006) for {'n_estimators': 722, 'max_features': 'auto'}\n",
      "0.989 (+/-0.006) for {'n_estimators': 868, 'max_features': 'auto'}\n",
      "0.989 (+/-0.006) for {'n_estimators': 401, 'max_features': 'log2'}\n",
      "0.989 (+/-0.006) for {'n_estimators': 206, 'max_features': 'auto'}\n",
      "0.989 (+/-0.006) for {'n_estimators': 357, 'max_features': 'auto'}\n",
      "0.989 (+/-0.006) for {'n_estimators': 902, 'max_features': 'sqrt'}\n",
      "0.989 (+/-0.006) for {'n_estimators': 757, 'max_features': 'auto'}\n",
      "\n",
      "Detailed classification report:\n",
      "\n",
      "The model is trained on the full development set.\n",
      "The scores are computed on the full evaluation set.\n",
      "\n",
      "              precision    recall  f1-score   support\n",
      "\n",
      "         0.0       1.00      1.00      1.00       807\n",
      "         1.0       1.00      1.00      1.00       793\n",
      "\n",
      "    accuracy                           1.00      1600\n",
      "   macro avg       1.00      1.00      1.00      1600\n",
      "weighted avg       1.00      1.00      1.00      1600\n",
      "\n",
      "\n"
     ]
    }
   ],
   "source": [
    "clfs_all_l = test_rf_hyperparameters('all', 'lexicon')"
   ]
  },
  {
   "cell_type": "code",
   "execution_count": 21,
   "metadata": {},
   "outputs": [
    {
     "data": {
      "text/plain": [
       "<matplotlib.collections.PathCollection at 0x7f36d8698d68>"
      ]
     },
     "execution_count": 21,
     "metadata": {},
     "output_type": "execute_result"
    },
    {
     "data": {
      "image/png": "[encoded data removed]",
      "text/plain": [
       "<Figure size 432x288 with 1 Axes>"
      ]
     },
     "metadata": {
      "needs_background": "light"
     },
     "output_type": "display_data"
    }
   ],
   "source": [
    "clf = clfs_all_b[0]\n",
    "s = (clf.cv_results_['mean_test_score']-min(clf.cv_results_['mean_test_score']))/max(clf.cv_results_['mean_test_score']-min(clf.cv_results_['mean_test_score']))\n",
    "plt.scatter(clf.cv_results_['param_n_estimators'],\n",
    "            clf.cv_results_['param_max_features'], \n",
    "            s = s*100)"
   ]
  },
  {
   "cell_type": "code",
   "execution_count": 22,
   "metadata": {},
   "outputs": [
    {
     "data": {
      "text/plain": [
       "<matplotlib.collections.PathCollection at 0x7f3784dde828>"
      ]
     },
     "execution_count": 22,
     "metadata": {},
     "output_type": "execute_result"
    },
    {
     "data": {
      "image/png": "[encoded data removed]",
      "text/plain": [
       "<Figure size 432x288 with 1 Axes>"
      ]
     },
     "metadata": {
      "needs_background": "light"
     },
     "output_type": "display_data"
    }
   ],
   "source": [
    "clf = clfs_all_b[1]\n",
    "s = (clf.cv_results_['mean_test_score']-min(clf.cv_results_['mean_test_score']))/max(clf.cv_results_['mean_test_score']-min(clf.cv_results_['mean_test_score']))\n",
    "plt.scatter(clf.cv_results_['param_n_estimators'],\n",
    "            clf.cv_results_['param_max_features'], \n",
    "            s = s*100)"
   ]
  },
  {
   "cell_type": "code",
   "execution_count": 23,
   "metadata": {},
   "outputs": [
    {
     "data": {
      "text/plain": [
       "<matplotlib.collections.PathCollection at 0x7f3784daeac8>"
      ]
     },
     "execution_count": 23,
     "metadata": {},
     "output_type": "execute_result"
    },
    {
     "data": {
      "image/png": "[encoded data removed]",
      "text/plain": [
       "<Figure size 432x288 with 1 Axes>"
      ]
     },
     "metadata": {
      "needs_background": "light"
     },
     "output_type": "display_data"
    }
   ],
   "source": [
    "clf = clfs_all[0]\n",
    "s = (clf.cv_results_['mean_test_score']-min(clf.cv_results_['mean_test_score']))/max(clf.cv_results_['mean_test_score']-min(clf.cv_results_['mean_test_score']))\n",
    "plt.scatter(clf.cv_results_['param_n_estimators'],\n",
    "            clf.cv_results_['param_max_features'], \n",
    "            s = s*100)"
   ]
  },
  {
   "cell_type": "code",
   "execution_count": 24,
   "metadata": {},
   "outputs": [
    {
     "data": {
      "text/plain": [
       "<matplotlib.collections.PathCollection at 0x7f3784d6e748>"
      ]
     },
     "execution_count": 24,
     "metadata": {},
     "output_type": "execute_result"
    },
    {
     "data": {
      "image/png": "[encoded data removed]",
      "text/plain": [
       "<Figure size 432x288 with 1 Axes>"
      ]
     },
     "metadata": {
      "needs_background": "light"
     },
     "output_type": "display_data"
    }
   ],
   "source": [
    "clf = clfs_all[1]\n",
    "s = (clf.cv_results_['mean_test_score']-min(clf.cv_results_['mean_test_score']))/max(clf.cv_results_['mean_test_score']-min(clf.cv_results_['mean_test_score']))\n",
    "plt.scatter(clf.cv_results_['param_n_estimators'],\n",
    "            clf.cv_results_['param_max_features'], \n",
    "            s = s*100)"
   ]
  },
  {
   "cell_type": "code",
   "execution_count": 25,
   "metadata": {},
   "outputs": [
    {
     "data": {
      "text/plain": [
       "<matplotlib.collections.PathCollection at 0x7f3784d3a208>"
      ]
     },
     "execution_count": 25,
     "metadata": {},
     "output_type": "execute_result"
    },
    {
     "data": {
      "image/png": "[encoded data removed]",
      "text/plain": [
       "<Figure size 432x288 with 1 Axes>"
      ]
     },
     "metadata": {
      "needs_background": "light"
     },
     "output_type": "display_data"
    }
   ],
   "source": [
    "clf = clfs_all_l[0]\n",
    "s = (clf.cv_results_['mean_test_score']-min(clf.cv_results_['mean_test_score']))/max(clf.cv_results_['mean_test_score']-min(clf.cv_results_['mean_test_score']))\n",
    "plt.scatter(clf.cv_results_['param_n_estimators'],\n",
    "            clf.cv_results_['param_max_features'], \n",
    "            s = s*100)"
   ]
  },
  {
   "cell_type": "code",
   "execution_count": 26,
   "metadata": {},
   "outputs": [
    {
     "data": {
      "text/plain": [
       "<matplotlib.collections.PathCollection at 0x7f3784cfb978>"
      ]
     },
     "execution_count": 26,
     "metadata": {},
     "output_type": "execute_result"
    },
    {
     "data": {
      "image/png": "[encoded data removed]",
      "text/plain": [
       "<Figure size 432x288 with 1 Axes>"
      ]
     },
     "metadata": {
      "needs_background": "light"
     },
     "output_type": "display_data"
    }
   ],
   "source": [
    "clf = clfs_all_l[1]\n",
    "s = (clf.cv_results_['mean_test_score']-min(clf.cv_results_['mean_test_score']))/max(clf.cv_results_['mean_test_score']-min(clf.cv_results_['mean_test_score']))\n",
    "plt.scatter(clf.cv_results_['param_n_estimators'],\n",
    "            clf.cv_results_['param_max_features'], \n",
    "            s = s*100)"
   ]
  }
 ],
 "metadata": {
  "colab": {
   "collapsed_sections": [],
   "name": "HW02_3.ipynb",
   "provenance": []
  },
  "kernelspec": {
   "display_name": "Python 3",
   "language": "python",
   "name": "python3"
  },
  "language_info": {
   "codemirror_mode": {
    "name": "ipython",
    "version": 3
   },
   "file_extension": ".py",
   "mimetype": "text/x-python",
   "name": "python",
   "nbconvert_exporter": "python",
   "pygments_lexer": "ipython3",
   "version": "3.6.9"
  }
 },
 "nbformat": 4,
 "nbformat_minor": 1
}
