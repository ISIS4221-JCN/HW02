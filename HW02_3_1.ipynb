{
 "cells": [
  {
   "cell_type": "markdown",
   "id": "breathing-shopping",
   "metadata": {},
   "source": [
    "# HW02 - Sentiment Analysis"
   ]
  },
  {
   "cell_type": "code",
   "execution_count": 1,
   "id": "wanted-composite",
   "metadata": {},
   "outputs": [],
   "source": [
    "import nltk\n",
    "from gensim.parsing.porter import PorterStemmer\n",
    "from gensim.parsing.preprocessing import remove_stopwords\n",
    "from gensim import corpora\n",
    "from gensim import models\n",
    "from gensim import similarities\n",
    "from smart_open import smart_open\n",
    "import pandas as pd\n",
    "import numpy as np\n",
    "from tqdm import tqdm\n",
    "import os"
   ]
  },
  {
   "cell_type": "code",
   "execution_count": 2,
   "id": "victorian-philip",
   "metadata": {},
   "outputs": [],
   "source": [
    "files = ['positive', 'negative', 'unlabeled']\n",
    "categories = ['books', 'dvd', 'kitchen', 'electronics']"
   ]
  },
  {
   "cell_type": "code",
   "execution_count": 23,
   "id": "searching-engineer",
   "metadata": {},
   "outputs": [],
   "source": [
    "words = []\n",
    "freq = []\n",
    "docs = []\n",
    "with open('./data/SA/books/positive.review') as file:\n",
    "    for line in file:\n",
    "        words_and_freq = line.strip('\\n').split('#label#:')[:-1][0]\n",
    "        words_and_freq = words_and_freq.split(' ')\n",
    "        d = {}\n",
    "        for term in words_and_freq[:-1]:\n",
    "            split = term.split(':')\n",
    "            words.append(split[0])\n",
    "            x = {split[0]:int(split[1])}\n",
    "            d.update(x)\n",
    "        docs.append(d)"
   ]
  },
  {
   "cell_type": "code",
   "execution_count": 15,
   "id": "strong-family",
   "metadata": {},
   "outputs": [],
   "source": [
    "def process(p, tokenizer, text):\n",
    "    \"\"\" Applies standard pre-processing to given text.\n",
    "\n",
    "    Args:\n",
    "        p (gensim.parsing.porter.PorterStemmer): stemmer object.\n",
    "        tokenizer (nltk.tokenize.regexp.RegexpTokenizer): tokenizr object.\n",
    "        text (str): text to preprocess.\n",
    "\n",
    "    Returns:\n",
    "        list: preprocessed text.\n",
    "    \"\"\"\n",
    "    doc_nor = text.lower()\n",
    "    doc_sw = remove_stopwords(doc_nor)\n",
    "    doc_stem = p.stem_sentence(doc_sw)\n",
    "    return tokenizer.tokenize(doc_stem)\n",
    "\n",
    "def bow_model(param, boolean, dictionary, p, tokenizer):\n",
    "    \"\"\" Returns bow and boolean bow \n",
    "        Args:\n",
    "            param (<class 'pandas.core.series.Series'>): Series from pandas.DataFrame with tag information\n",
    "\n",
    "        Returns:\n",
    "            list: Numbers of relevant documents\n",
    "    \"\"\"\n",
    "    unordered_bow = dictionary.doc2bow(process(p, tokenizer, param.text))\n",
    "    doc_bow = np.zeros(len(dictionary), dtype=np.bool_ if boolean == 'bool' else np.float16)\n",
    "    for pair in unordered_bow:\n",
    "        doc_bow[pair[0]] = True if boolean == 'bool' else float(pair[1])\n",
    "    return np.array(doc_bow)\n",
    "\n",
    "def process_df(df, boolean):\n",
    "    p = PorterStemmer()\n",
    "    tokenizer = nltk.RegexpTokenizer(r'\\w+')\n",
    "    docDict = []\n",
    "    for doc in df['text']:\n",
    "        docDict.append(process(p, tokenizer, doc))\n",
    "    dictionary = corpora.Dictionary(docDict)\n",
    "    if boolean == 'bow':\n",
    "        df['bow'] = df.apply(bow_model, axis=1, args=['not-bool', dictionary, p, tokenizer])\n",
    "    elif boolean == 'bool-bow':\n",
    "        df['bool-bow'] = df.apply(bow_model, axis=1, args=['bool', dictionary, p, tokenizer])\n",
    "    return df"
   ]
  }
 ],
 "metadata": {
  "kernelspec": {
   "display_name": "Python 3",
   "language": "python",
   "name": "python3"
  },
  "language_info": {
   "codemirror_mode": {
    "name": "ipython",
    "version": 3
   },
   "file_extension": ".py",
   "mimetype": "text/x-python",
   "name": "python",
   "nbconvert_exporter": "python",
   "pygments_lexer": "ipython3",
   "version": "3.6.9"
  }
 },
 "nbformat": 4,
 "nbformat_minor": 5
}
