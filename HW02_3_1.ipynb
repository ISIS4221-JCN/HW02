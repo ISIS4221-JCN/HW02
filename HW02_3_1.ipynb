{
 "cells": [
  {
   "cell_type": "markdown",
   "id": "breathing-shopping",
   "metadata": {},
   "source": [
    "# HW02 - Sentiment Analysis"
   ]
  },
  {
   "cell_type": "code",
   "execution_count": 4,
   "id": "wanted-composite",
   "metadata": {},
   "outputs": [],
   "source": [
    "import nltk\n",
    "from gensim.parsing.porter import PorterStemmer\n",
    "from gensim.parsing.preprocessing import remove_stopwords\n",
    "from gensim import corpora\n",
    "from gensim import models\n",
    "from gensim import similarities\n",
    "from smart_open import smart_open\n",
    "import pandas as pd\n",
    "import numpy as np\n",
    "from tqdm import tqdm\n",
    "import os, re"
   ]
  },
  {
   "cell_type": "code",
   "execution_count": 5,
   "id": "victorian-philip",
   "metadata": {},
   "outputs": [],
   "source": [
    "files = ['positive', 'negative']\n",
    "categories = ['books', 'dvd', 'kitchen', 'electronics']\n",
    "characters_to_remove = '!()#@~\"'\n",
    "pattern = \"[\" + characters_to_remove + \"]\""
   ]
  },
  {
   "cell_type": "code",
   "execution_count": 6,
   "id": "searching-engineer",
   "metadata": {},
   "outputs": [],
   "source": [
    "def read_file(category, file):\n",
    "    words = []\n",
    "    docs = []\n",
    "    tags = []\n",
    "    with open('./data/SA/'+category+'/'+file+'.review', encoding='ISO-8859-1') as file:\n",
    "        for line in file:\n",
    "            words_and_freq = re.sub(pattern, \"\", line.strip('\\n').strip('\\x1a')).split('#label#:')\n",
    "            if words_and_freq[-1] == 'positive':\n",
    "                tag = int(1)\n",
    "            else:\n",
    "                tag = int(0)\n",
    "            tags.append(tag)\n",
    "            words_and_freq = words_and_freq[0].split(' ')\n",
    "            d = {}\n",
    "            for term in words_and_freq[:-1]:\n",
    "                split = term.split(':')\n",
    "                words.append(split[0])\n",
    "                x = {split[0]:int(split[1])}\n",
    "                d.update(x)\n",
    "            docs.append(d)\n",
    "    return [words, docs, tags]\n",
    "\n",
    "def build_dataset(category):\n",
    "    dictionary = []\n",
    "    documents = []\n",
    "    tags = []\n",
    "    for file in files:\n",
    "        [words_temp, docs_temp, tags_temp] = read_file(category, file)\n",
    "        words_temp = np.unique(words_temp)\n",
    "        for term in zip(docs_temp, tags_temp):\n",
    "            documents.append(term[0])\n",
    "            tags.append(term[1])\n",
    "        for word in words_temp:\n",
    "            dictionary.append(word)\n",
    "    temp, unlabeled_docs, unlabeled_tags = read_file(category, 'unlabeled')\n",
    "    return [np.array(np.unique(dictionary),dtype='str'), documents, tags, unlabeled_docs, unlabeled_tags]\n",
    "\n",
    "def get_bow_model(param, dictionary, model):\n",
    "    doc_model = np.zeros(len(dictionary), dtype=np.bool_ if model == 'bool' else np.float16)\n",
    "    doc = param.document\n",
    "    for word in doc.keys():\n",
    "        index = np.where(dictionary == word)[0]\n",
    "        if len(index) == 0:\n",
    "            continue\n",
    "        else:\n",
    "            doc_model[index[0]] = 1 if model == 'bool' else doc[word]\n",
    "    return doc_model\n",
    "\n",
    "def create_dataframe(category):\n",
    "    [dictionary, documents, tags, unlabeled_docs, unlabeled_tags] = build_dataset(category)\n",
    "    df_labeled = pd.DataFrame(data = {'document': documents, 'tags':tags})\n",
    "    df_unlabeled = pd.DataFrame(data = {'document': unlabeled_docs, 'tags':unlabeled_tags})\n",
    "    df_labeled['bool-bow'] = df_labeled.apply(get_bow_model, axis=1, args=[dictionary, 'bool'])\n",
    "    df_labeled['bow'] = df_labeled.apply(get_bow_model, axis=1, args=[dictionary, 'not-bool'])\n",
    "    df_unlabeled['bool-bow'] = df_unlabeled.apply(get_bow_model, axis=1, args=[dictionary, 'bool'])\n",
    "    df_unlabeled['bow'] = df_unlabeled.apply(get_bow_model, axis=1, args=[dictionary, 'not-bool'])\n",
    "    df_labeled.to_pickle('./data/SA/' + category + '/labeled.pkl')\n",
    "    df_unlabeled.to_pickle('./data/SA/' + category + '/unlabeled.pkl')"
   ]
  },
  {
   "cell_type": "code",
   "execution_count": null,
   "id": "piano-psychiatry",
   "metadata": {},
   "outputs": [],
   "source": [
    "for cat in categories:\n",
    "    create_dataframe(cat)"
   ]
  },
  {
   "cell_type": "code",
   "execution_count": null,
   "id": "starting-skating",
   "metadata": {},
   "outputs": [],
   "source": [
    "for cat in categories:\n",
    "    [dictionary, documents, tags, unlabeled_docs, unlabeled_tags] = build_dataset(cat)\n",
    "    np.save('./data/SA/'+cat+'/dictionary.npy', dictionary)\n",
    "    \n",
    "dictionary = np.concatenate((np.load('./data/SA/books/dictionary.npy'), \n",
    "                             np.load('./data/SA/dvd/dictionary.npy'),\n",
    "                             np.load('./data/SA/kitchen/dictionary.npy'), \n",
    "                             np.load('./data/SA/electronics/dictionary.npy')))\n",
    "dictionary = np.unique(dictionary)\n",
    "np.save('./data/SA/all/dictionary.npy', dictionary)\n",
    "print(len(dictionary))"
   ]
  },
  {
   "cell_type": "code",
   "execution_count": 7,
   "id": "aboriginal-aircraft",
   "metadata": {},
   "outputs": [
    {
     "name": "stderr",
     "output_type": "stream",
     "text": [
      "\r",
      "  0%|          | 0/4 [00:00<?, ?it/s]"
     ]
    },
    {
     "name": "stdout",
     "output_type": "stream",
     "text": [
      "bookslabeled finished\n"
     ]
    },
    {
     "name": "stderr",
     "output_type": "stream",
     "text": [
      "\r",
      " 25%|██▌       | 1/4 [2:02:21<6:07:05, 7342.00s/it]"
     ]
    },
    {
     "name": "stdout",
     "output_type": "stream",
     "text": [
      "bookslabeled finished\n",
      "dvdlabeled finished\n"
     ]
    },
    {
     "name": "stderr",
     "output_type": "stream",
     "text": [
      "\r",
      " 50%|█████     | 2/4 [4:01:58<4:01:29, 7244.74s/it]"
     ]
    },
    {
     "name": "stdout",
     "output_type": "stream",
     "text": [
      "dvdlabeled finished\n",
      "kitchenlabeled finished\n"
     ]
    },
    {
     "name": "stderr",
     "output_type": "stream",
     "text": [
      "\r",
      " 75%|███████▌  | 3/4 [5:09:20<1:36:22, 5782.30s/it]"
     ]
    },
    {
     "name": "stdout",
     "output_type": "stream",
     "text": [
      "kitchenlabeled finished\n",
      "electronicslabeled finished\n"
     ]
    },
    {
     "name": "stderr",
     "output_type": "stream",
     "text": [
      "100%|██████████| 4/4 [6:28:22<00:00, 5825.57s/it]  "
     ]
    },
    {
     "name": "stdout",
     "output_type": "stream",
     "text": [
      "electronicslabeled finished\n"
     ]
    },
    {
     "name": "stderr",
     "output_type": "stream",
     "text": [
      "\n"
     ]
    }
   ],
   "source": [
    "dictionary = np.load('./data/SA/all/dictionary.npy')\n",
    "for cat in tqdm(categories):\n",
    "    df = pd.read_pickle('./data/SA/' + cat + '/labeled.pkl')\n",
    "    bow_model = np.array(df.apply(get_bow_model, axis=1, args=[dictionary, 'not-bool']))\n",
    "    np.save('./data/SA/all/'+cat+'_labeled.npy', bow_model)\n",
    "    print(str(cat) + 'labeled finished')\n",
    "    bow_model = np.array(df.apply(get_bow_model, axis=1, args=[dictionary, 'bool']))\n",
    "    np.save('./data/SA/all/'+cat+'_bool_labeled.npy', bow_model)\n",
    "    print(str(cat) + 'labeled finished')"
   ]
  },
  {
   "cell_type": "code",
   "execution_count": null,
   "id": "parallel-stone",
   "metadata": {},
   "outputs": [
    {
     "name": "stderr",
     "output_type": "stream",
     "text": [
      "\r",
      "  0%|          | 0/3 [00:00<?, ?it/s]"
     ]
    }
   ],
   "source": [
    "for cat in tqdm(['dvd', 'kitchen', 'electronics']):\n",
    "    df = pd.read_pickle('./data/SA/' + cat + '/unlabeled.pkl')\n",
    "    bow_model = np.array(df.apply(get_bow_model, axis=1, args=[dictionary, 'not-bool']))\n",
    "    np.save('./data/SA/all/'+cat+'_unlabeled.npy', bow_model)\n",
    "    print(str(cat) + 'unlabeled finished')\n",
    "    bow_model = np.array(df.apply(get_bow_model, axis=1, args=[dictionary, 'bool']))\n",
    "    np.save('./data/SA/all/'+cat+'_bool_unlabeled.npy', bow_model)\n",
    "    print(str(cat) + 'unlabeled finished')"
   ]
  },
  {
   "cell_type": "code",
   "execution_count": null,
   "id": "durable-poison",
   "metadata": {},
   "outputs": [],
   "source": []
  }
 ],
 "metadata": {
  "kernelspec": {
   "display_name": "Python 3",
   "language": "python",
   "name": "python3"
  },
  "language_info": {
   "codemirror_mode": {
    "name": "ipython",
    "version": 3
   },
   "file_extension": ".py",
   "mimetype": "text/x-python",
   "name": "python",
   "nbconvert_exporter": "python",
   "pygments_lexer": "ipython3",
   "version": "3.6.9"
  }
 },
 "nbformat": 4,
 "nbformat_minor": 5
}
