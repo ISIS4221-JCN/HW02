{
 "cells": [
  {
   "cell_type": "code",
   "execution_count": 1,
   "id": "minor-dallas",
   "metadata": {},
   "outputs": [],
   "source": [
    "import pandas as pd\n",
    "import numpy as np\n",
    "import nltk\n",
    "from sklearn.model_selection import train_test_split\n",
    "from sklearn.naive_bayes import GaussianNB\n",
    "from sklearn import metrics\n",
    "from sklearn.linear_model import LogisticRegression"
   ]
  },
  {
   "cell_type": "code",
   "execution_count": 30,
   "id": "equipped-bulgarian",
   "metadata": {},
   "outputs": [],
   "source": [
    "def train_validate_evaluate(classifier, dataset, feature):\n",
    "    df = pd.read_pickle('./data/SA/'+ dataset +'/labeled.csv')\n",
    "    X = np.array(df[feature]).tolist()\n",
    "    y = np.array(df['tag']).tolist()\n",
    "    X_train, X_val, y_train, y_val = train_test_split(X, y, test_size=0.8, random_state=15)\n",
    "    if classifier == 'NB':\n",
    "        clf = GaussianNB()\n",
    "    elif classifier == 'LR':\n",
    "        clf = LogisticRegression(random_state=0)\n",
    "    clf.fit(X_train, y_train)\n",
    "    y_pred = clf.predict(X_val)\n",
    "    accuracy = metrics.accuracy_score(y_val, y_pred)\n",
    "    precision = metrics.precision_score(y_val, y_pred)\n",
    "    recall = metrics.precision_score(y_val, y_pred)\n",
    "    f1_score = metrics.f1_score(y_val, y_pred)\n",
    "    metrics_data = {'accuracy': [accuracy], 'precision':[precision], 'recall':[recall], 'f1_score': [f1_score]}\n",
    "    df = pd.DataFrame(data = metrics_data)\n",
    "    df.index = [dataset + ' ' + classifier + ' ' + feature]\n",
    "    return df"
   ]
  },
  {
   "cell_type": "code",
   "execution_count": 31,
   "id": "national-delicious",
   "metadata": {},
   "outputs": [],
   "source": [
    "classifiers = ['NB', 'LR']\n",
    "datasets = ['books', 'dvd', 'electronics', 'kitchen', 'all']\n",
    "features = ['bow', 'bool-bow']"
   ]
  },
  {
   "cell_type": "code",
   "execution_count": 32,
   "id": "owned-sleeve",
   "metadata": {},
   "outputs": [
    {
     "data": {
      "text/html": [
       "<div>\n",
       "<style scoped>\n",
       "    .dataframe tbody tr th:only-of-type {\n",
       "        vertical-align: middle;\n",
       "    }\n",
       "\n",
       "    .dataframe tbody tr th {\n",
       "        vertical-align: top;\n",
       "    }\n",
       "\n",
       "    .dataframe thead th {\n",
       "        text-align: right;\n",
       "    }\n",
       "</style>\n",
       "<table border=\"1\" class=\"dataframe\">\n",
       "  <thead>\n",
       "    <tr style=\"text-align: right;\">\n",
       "      <th></th>\n",
       "      <th>accuracy</th>\n",
       "      <th>precision</th>\n",
       "      <th>recall</th>\n",
       "      <th>f1_score</th>\n",
       "    </tr>\n",
       "  </thead>\n",
       "  <tbody>\n",
       "    <tr>\n",
       "      <th>books NB bow</th>\n",
       "      <td>0.594375</td>\n",
       "      <td>0.598315</td>\n",
       "      <td>0.598315</td>\n",
       "      <td>0.567622</td>\n",
       "    </tr>\n",
       "    <tr>\n",
       "      <th>books NB bool-bow</th>\n",
       "      <td>0.598750</td>\n",
       "      <td>0.605755</td>\n",
       "      <td>0.605755</td>\n",
       "      <td>0.567385</td>\n",
       "    </tr>\n",
       "    <tr>\n",
       "      <th>dvd NB bow</th>\n",
       "      <td>0.583125</td>\n",
       "      <td>0.568233</td>\n",
       "      <td>0.568233</td>\n",
       "      <td>0.603684</td>\n",
       "    </tr>\n",
       "    <tr>\n",
       "      <th>dvd NB bool-bow</th>\n",
       "      <td>0.601875</td>\n",
       "      <td>0.581545</td>\n",
       "      <td>0.581545</td>\n",
       "      <td>0.629866</td>\n",
       "    </tr>\n",
       "    <tr>\n",
       "      <th>electronics NB bow</th>\n",
       "      <td>0.613750</td>\n",
       "      <td>0.627422</td>\n",
       "      <td>0.627422</td>\n",
       "      <td>0.576712</td>\n",
       "    </tr>\n",
       "  </tbody>\n",
       "</table>\n",
       "</div>"
      ],
      "text/plain": [
       "                    accuracy  precision    recall  f1_score\n",
       "books NB bow        0.594375   0.598315  0.598315  0.567622\n",
       "books NB bool-bow   0.598750   0.605755  0.605755  0.567385\n",
       "dvd NB bow          0.583125   0.568233  0.568233  0.603684\n",
       "dvd NB bool-bow     0.601875   0.581545  0.581545  0.629866\n",
       "electronics NB bow  0.613750   0.627422  0.627422  0.576712"
      ]
     },
     "execution_count": 32,
     "metadata": {},
     "output_type": "execute_result"
    }
   ],
   "source": [
    "df = pd.DataFrame()\n",
    "for classifier in classifiers:\n",
    "    for dataset in datasets:\n",
    "        for feature in features:\n",
    "            df = pd.concat([df, train_validate_evaluate(classifier, dataset, feature)], axis=0)"
   ]
  },
  {
   "cell_type": "code",
   "execution_count": 2,
   "id": "athletic-composition",
   "metadata": {},
   "outputs": [],
   "source": [
    "df = pd.read_pickle('./data/SA/books/labeled.csv')\n",
    "df.shape"
   ]
  }
 ],
 "metadata": {
  "kernelspec": {
   "display_name": "Python 3",
   "language": "python",
   "name": "python3"
  },
  "language_info": {
   "codemirror_mode": {
    "name": "ipython",
    "version": 3
   },
   "file_extension": ".py",
   "mimetype": "text/x-python",
   "name": "python",
   "nbconvert_exporter": "python",
   "pygments_lexer": "ipython3",
   "version": "3.6.9"
  }
 },
 "nbformat": 4,
 "nbformat_minor": 5
}
