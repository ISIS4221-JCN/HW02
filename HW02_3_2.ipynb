{
 "cells": [
  {
   "cell_type": "code",
   "execution_count": 63,
   "id": "minor-dallas",
   "metadata": {},
   "outputs": [],
   "source": [
    "import pandas as pd\n",
    "import numpy as np\n",
    "import nltk\n",
    "from sklearn.model_selection import train_test_split\n",
    "from sklearn.naive_bayes import GaussianNB\n",
    "from sklearn.metrics import accuracy_score\n",
    "from sklearn.linear_model import LogisticRegression"
   ]
  },
  {
   "cell_type": "code",
   "execution_count": 57,
   "id": "organized-convertible",
   "metadata": {},
   "outputs": [],
   "source": [
    "df = pd.read_pickle('./data/SA/books/labeled.csv')\n",
    "X = np.array(df['bow']).tolist()\n",
    "y = np.array(df['tag']).tolist()\n",
    "X_train, X_val, y_train, y_val = train_test_split(X, y, test_size=0.8, random_state=15)\n",
    "gnb = GaussianNB()\n",
    "NB = gnb.fit(X_train, y_train)\n",
    "y_pred = NB.predict(X_val)"
   ]
  },
  {
   "cell_type": "code",
   "execution_count": 62,
   "id": "entertaining-supplement",
   "metadata": {},
   "outputs": [
    {
     "data": {
      "text/plain": [
       "0.594375"
      ]
     },
     "execution_count": 62,
     "metadata": {},
     "output_type": "execute_result"
    }
   ],
   "source": [
    "accuracy_score(y_val, y_pred)"
   ]
  },
  {
   "cell_type": "code",
   "execution_count": 66,
   "id": "peripheral-competition",
   "metadata": {},
   "outputs": [],
   "source": [
    "clf = LogisticRegression(random_state=0).fit(X_train, y_train)\n",
    "y_pred = clf.predict(X_val)"
   ]
  },
  {
   "cell_type": "code",
   "execution_count": 67,
   "id": "nonprofit-assistant",
   "metadata": {},
   "outputs": [
    {
     "data": {
      "text/plain": [
       "0.714375"
      ]
     },
     "execution_count": 67,
     "metadata": {},
     "output_type": "execute_result"
    }
   ],
   "source": [
    "accuracy_score(y_val, y_pred)"
   ]
  },
  {
   "cell_type": "code",
   "execution_count": 70,
   "id": "southern-saint",
   "metadata": {},
   "outputs": [],
   "source": [
    "df = pd.read_pickle('./data/SA/books/labeled.csv')\n",
    "X = np.array(df['bool-bow']).tolist()\n",
    "y = np.array(df['tag']).tolist()\n",
    "X_train, X_val, y_train, y_val = train_test_split(X, y, test_size=0.8, random_state=15)\n",
    "gnb = GaussianNB()\n",
    "NB = gnb.fit(X_train, y_train)\n",
    "y_pred = NB.predict(X_val)"
   ]
  },
  {
   "cell_type": "code",
   "execution_count": 71,
   "id": "honest-ribbon",
   "metadata": {},
   "outputs": [
    {
     "data": {
      "text/plain": [
       "0.59875"
      ]
     },
     "execution_count": 71,
     "metadata": {},
     "output_type": "execute_result"
    }
   ],
   "source": [
    "accuracy_score(y_val, y_pred)"
   ]
  },
  {
   "cell_type": "code",
   "execution_count": 72,
   "id": "included-harvest",
   "metadata": {},
   "outputs": [],
   "source": [
    "clf = LogisticRegression(random_state=0).fit(X_train, y_train)\n",
    "y_pred = clf.predict(X_val)"
   ]
  },
  {
   "cell_type": "code",
   "execution_count": 73,
   "id": "satisfactory-republic",
   "metadata": {},
   "outputs": [
    {
     "data": {
      "text/plain": [
       "0.72375"
      ]
     },
     "execution_count": 73,
     "metadata": {},
     "output_type": "execute_result"
    }
   ],
   "source": [
    "accuracy_score(y_val, y_pred)"
   ]
  },
  {
   "cell_type": "code",
   "execution_count": null,
   "id": "national-delicious",
   "metadata": {},
   "outputs": [],
   "source": []
  }
 ],
 "metadata": {
  "kernelspec": {
   "display_name": "Python 3",
   "language": "python",
   "name": "python3"
  },
  "language_info": {
   "codemirror_mode": {
    "name": "ipython",
    "version": 3
   },
   "file_extension": ".py",
   "mimetype": "text/x-python",
   "name": "python",
   "nbconvert_exporter": "python",
   "pygments_lexer": "ipython3",
   "version": "3.6.9"
  }
 },
 "nbformat": 4,
 "nbformat_minor": 5
}
