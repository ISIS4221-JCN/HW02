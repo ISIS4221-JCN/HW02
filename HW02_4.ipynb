{
 "cells": [
  {
   "cell_type": "markdown",
   "metadata": {},
   "source": [
    "# HW02 - Mourning Tweets"
   ]
  },
  {
   "cell_type": "markdown",
   "metadata": {},
   "source": [
    "## Import Data"
   ]
  },
  {
   "cell_type": "code",
   "execution_count": 1,
   "metadata": {},
   "outputs": [],
   "source": [
    "# Import Libraries\n",
    "import nltk\n",
    "import csv\n",
    "import os\n",
    "import numpy as np\n",
    "import pandas as pd\n",
    "from IPython.display import clear_output"
   ]
  },
  {
   "cell_type": "code",
   "execution_count": 2,
   "metadata": {},
   "outputs": [
    {
     "data": {
      "text/html": [
       "<div>\n",
       "<style scoped>\n",
       "    .dataframe tbody tr th:only-of-type {\n",
       "        vertical-align: middle;\n",
       "    }\n",
       "\n",
       "    .dataframe tbody tr th {\n",
       "        vertical-align: top;\n",
       "    }\n",
       "\n",
       "    .dataframe thead th {\n",
       "        text-align: right;\n",
       "    }\n",
       "</style>\n",
       "<table border=\"1\" class=\"dataframe\">\n",
       "  <thead>\n",
       "    <tr style=\"text-align: right;\">\n",
       "      <th></th>\n",
       "      <th>text</th>\n",
       "      <th>tag</th>\n",
       "      <th>lang</th>\n",
       "      <th>emoticon</th>\n",
       "    </tr>\n",
       "  </thead>\n",
       "  <tbody>\n",
       "    <tr>\n",
       "      <th>0</th>\n",
       "      <td>Hoy uno de mis tíos falleció por COVID-19, no ...</td>\n",
       "      <td>mourning</td>\n",
       "      <td>es</td>\n",
       "      <td>0</td>\n",
       "    </tr>\n",
       "    <tr>\n",
       "      <th>1</th>\n",
       "      <td>Hoy falleció mi abuela. Y eso, sin velorio, si...</td>\n",
       "      <td>mourning</td>\n",
       "      <td>es</td>\n",
       "      <td>0</td>\n",
       "    </tr>\n",
       "    <tr>\n",
       "      <th>2</th>\n",
       "      <td>Muere el primer médico en activo por Covid-19 ...</td>\n",
       "      <td>mourning</td>\n",
       "      <td>es</td>\n",
       "      <td>0</td>\n",
       "    </tr>\n",
       "    <tr>\n",
       "      <th>3</th>\n",
       "      <td>Historia de una victoria. Historia de los últi...</td>\n",
       "      <td>mourning</td>\n",
       "      <td>es</td>\n",
       "      <td>1</td>\n",
       "    </tr>\n",
       "    <tr>\n",
       "      <th>4</th>\n",
       "      <td>He visto dos personas a las que les tomé cariñ...</td>\n",
       "      <td>mourning</td>\n",
       "      <td>es</td>\n",
       "      <td>0</td>\n",
       "    </tr>\n",
       "  </tbody>\n",
       "</table>\n",
       "</div>"
      ],
      "text/plain": [
       "                                                text       tag lang  emoticon\n",
       "0  Hoy uno de mis tíos falleció por COVID-19, no ...  mourning   es         0\n",
       "1  Hoy falleció mi abuela. Y eso, sin velorio, si...  mourning   es         0\n",
       "2  Muere el primer médico en activo por Covid-19 ...  mourning   es         0\n",
       "3  Historia de una victoria. Historia de los últi...  mourning   es         1\n",
       "4  He visto dos personas a las que les tomé cariñ...  mourning   es         0"
      ]
     },
     "execution_count": 2,
     "metadata": {},
     "output_type": "execute_result"
    }
   ],
   "source": [
    "# Import fnmourning dataset\n",
    "raw_df = pd.read_csv('./data/fnmourning.csv', sep = ',')\n",
    "\n",
    "# Glimpse to raw dataset\n",
    "raw_df.head()"
   ]
  },
  {
   "cell_type": "code",
   "execution_count": 3,
   "metadata": {},
   "outputs": [],
   "source": [
    "# Replace string tags with binary tags\n",
    "raw_df.tag = raw_df.tag.replace('mourning',1)\n",
    "raw_df.tag = raw_df.tag.replace('no mourning',0)\n",
    "\n",
    "# Split dataset by language\n",
    "es_df = raw_df[(raw_df.lang == \"es\")]\n",
    "en_df = raw_df[(raw_df.lang == \"en\")]"
   ]
  },
  {
   "cell_type": "markdown",
   "metadata": {},
   "source": [
    "## Lexicons"
   ]
  },
  {
   "cell_type": "code",
   "execution_count": 4,
   "metadata": {},
   "outputs": [],
   "source": [
    "# Tweet tokenizer \n",
    "from nltk.tokenize import TweetTokenizer\n",
    "tt = TweetTokenizer(preserve_case=False, reduce_len=True, strip_handles=True)\n",
    "\n",
    "# Tokenize tweets in ES dataset\n",
    "es_tweets = []\n",
    "for tweet in es_df.text:\n",
    "    es_tweets.append(tt.tokenize(tweet))\n",
    "\n",
    "# Tokenize tweets in EN dataset\n",
    "en_tweets = []\n",
    "for tweet in en_df.text:\n",
    "    en_tweets.append(tt.tokenize(tweet))"
   ]
  },
  {
   "cell_type": "code",
   "execution_count": 5,
   "metadata": {},
   "outputs": [
    {
     "name": "stdout",
     "output_type": "stream",
     "text": [
      "ES Dictionary:\n",
      "Dictionary(32009 unique tokens: [',', '-', '.', '19', 'conciencia']...)\n",
      "\n",
      "EN Dictionary:\n",
      "Dictionary(27484 unique tokens: [',', '-', '.', '19', 'and']...)\n"
     ]
    }
   ],
   "source": [
    "# Build dictionaries\n",
    "from gensim import corpora\n",
    "\n",
    "# Convert tweets to ES dictionary\n",
    "es_dict = corpora.Dictionary(es_tweets)\n",
    "\n",
    "# Convert tweets to ES dictionary\n",
    "en_dict = corpora.Dictionary(en_tweets)\n",
    "\n",
    "# Glimpse to dictionaries\n",
    "print('ES Dictionary:')\n",
    "print(es_dict)\n",
    "print('')\n",
    "print('EN Dictionary:')\n",
    "print(en_dict)"
   ]
  },
  {
   "cell_type": "code",
   "execution_count": 6,
   "metadata": {},
   "outputs": [],
   "source": [
    "# Tweet corpus\n",
    "\n",
    "# Count terms in each class\n"
   ]
  },
  {
   "cell_type": "markdown",
   "metadata": {},
   "source": [
    "## Classifiers"
   ]
  },
  {
   "cell_type": "code",
   "execution_count": null,
   "metadata": {},
   "outputs": [],
   "source": []
  },
  {
   "cell_type": "code",
   "execution_count": null,
   "metadata": {},
   "outputs": [],
   "source": []
  },
  {
   "cell_type": "markdown",
   "metadata": {},
   "source": [
    "## Feature Importance"
   ]
  },
  {
   "cell_type": "code",
   "execution_count": null,
   "metadata": {},
   "outputs": [],
   "source": []
  }
 ],
 "metadata": {
  "kernelspec": {
   "display_name": "Python 3",
   "language": "python",
   "name": "python3"
  },
  "language_info": {
   "codemirror_mode": {
    "name": "ipython",
    "version": 3
   },
   "file_extension": ".py",
   "mimetype": "text/x-python",
   "name": "python",
   "nbconvert_exporter": "python",
   "pygments_lexer": "ipython3",
   "version": "3.7.8"
  }
 },
 "nbformat": 4,
 "nbformat_minor": 4
}
